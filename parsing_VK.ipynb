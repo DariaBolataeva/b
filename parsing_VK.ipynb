{
 "cells": [
  {
   "cell_type": "markdown",
   "id": "04f906ea",
   "metadata": {},
   "source": [
    "Код ниже позволяет, используя заранее полученный токен авторизации (ключ доступа) к VK API, парсить посты из глобального поиска по одному или нескольким ключевым словам. В данном случае задействованы методы newsfeed.search и wall.getComments. Была предпринята попытка обойти ограничение в 1000 результатов с использованием сдвига по временным отметкам = код создает запрос к серверу с новой временной отметкой каждый раз, когда общее число выгруженных постов достигает лимита."
   ]
  },
  {
   "cell_type": "code",
   "execution_count": 1,
   "id": "dfc0e689",
   "metadata": {},
   "outputs": [],
   "source": [
    "import requests\n",
    "import math\n",
    "import pandas as pd\n",
    "import datetime as dt\n",
    "from tqdm import tqdm_notebook\n",
    "from time import sleep"
   ]
  },
  {
   "cell_type": "code",
   "execution_count": 2,
   "id": "7f9d01bb",
   "metadata": {},
   "outputs": [],
   "source": [
    "import warnings\n",
    "warnings.filterwarnings('ignore')"
   ]
  },
  {
   "cell_type": "code",
   "execution_count": 3,
   "id": "cd8d5545",
   "metadata": {},
   "outputs": [],
   "source": [
    "# прочитать токен авторизации (ключ доступа) из файла ``access_token.txt``\n",
    "\n",
    "with open('access_token.txt', mode = 'r', encoding = 'UTF-8') as infile:\n",
    "    token = infile.read()"
   ]
  },
  {
   "cell_type": "code",
   "execution_count": 4,
   "id": "e80063e4",
   "metadata": {},
   "outputs": [],
   "source": [
    "# определить функцию ``vk_downlooad``, которая формирует http-запрос к серверу указанием метода VK API и его параметров \n",
    "\n",
    "def vk_download(method, params):\n",
    "    url = 'https://api.vk.com/method/' + method + '?' + params + '&access_token=' + token + '&v=' + '5.131'\n",
    "    response = requests.get(url)\n",
    "    return response.json()"
   ]
  },
  {
   "cell_type": "code",
   "execution_count": 5,
   "id": "cd7aa60d",
   "metadata": {},
   "outputs": [],
   "source": [
    "# определить функции ``unix`` и ``unix_to_str``, которые переводят временную отметку (timestamp) в формат строки и обратно \n",
    "\n",
    "def unix(datetime_str):\n",
    "    datetime = dt.datetime.strptime(datetime_str, '%Y-%m-%d %H:%M:%S')\n",
    "    return int(datetime.timestamp())\n",
    "\n",
    "def unix_to_str(unix):\n",
    "    return str(dt.datetime.fromtimestamp(unix))"
   ]
  },
  {
   "cell_type": "code",
   "execution_count": 6,
   "id": "1de18dca",
   "metadata": {},
   "outputs": [],
   "source": [
    "# определить функции ``get_info`` и ``del_duplicates`` для предобработки массива данных\n",
    "\n",
    "def get_info(full_lst):\n",
    "    L = []\n",
    "    for post in full_lst:\n",
    "        try:\n",
    "            L.append({'owner_id': post['owner_id'],\n",
    "                      'post_id': post['id'], \n",
    "                      'post_text': post['text'].replace('\\n', ''), \n",
    "                      'comments': post['comments']['count'], \n",
    "                      'date': unix_to_str(post['date'])[0:10]})\n",
    "        except KeyError:\n",
    "            pass\n",
    "    return L\n",
    "\n",
    "def del_duplicates(full_lst):\n",
    "    id_lst = [post['post_id'] for post in full_lst]\n",
    "    for post in full_lst:\n",
    "        if id_lst.count(post['post_id']) > 1:\n",
    "            full_lst.remove(post)\n",
    "    return full_lst"
   ]
  },
  {
   "cell_type": "code",
   "execution_count": 7,
   "id": "2812c144",
   "metadata": {},
   "outputs": [],
   "source": [
    "def create_lst(full_lst):\n",
    "    final_lst = get_info(full_lst)  # вытащить информацию об id_пользователя, id_поста, тексте поста, числе комментариев \n",
    "                                    # к нему и временной отметке\n",
    "    return final_lst"
   ]
  },
  {
   "cell_type": "code",
   "execution_count": 8,
   "id": "a360c25c",
   "metadata": {},
   "outputs": [],
   "source": [
    "# определить функцию ``get_tag``, которая выгружает все посты из глобального поиска по заданному ключевому слову \n",
    "# (= встречается в тексте 1 раз и более)\n",
    "\n",
    "def get_tag(tag, start_time, end_time):\n",
    "    fulltag_1 = []\n",
    "    dates = ['2022-05-04 12:00:00']\n",
    "    start_from = 0\n",
    "    start_time = unix(start_time)\n",
    "    end_time = unix(end_time)\n",
    "    for i in tqdm_notebook(range(10000)):\n",
    "        n1 = unix_to_str(start_time).split()[0].split('-')[2]\n",
    "        n2 = unix_to_str(start_time).split()[1].split(':')[0]\n",
    "        if dates[-1].split()[0].split('-')[2] == n1 and dates[-1].split()[1].split(':')[0] == n2:\n",
    "            break\n",
    "        info = vk_download(method = 'newsfeed.search', params = f'q={tag}&count=200&start_from={start_from}&start_time={start_time}&end_time={end_time}')\n",
    "        fulltag_1.extend(info['response']['items'])\n",
    "        dates.extend([unix_to_str(post['date']) for post in info['response']['items']])\n",
    "        sleep(0.4)\n",
    "        try:\n",
    "            start_from = info['response']['next_from']\n",
    "        except KeyError:\n",
    "            start_from = 0\n",
    "            end_time = unix(dates[-1])\n",
    "        print(dates[-1])\n",
    "    return create_lst(fulltag_1)"
   ]
  },
  {
   "cell_type": "code",
   "execution_count": 9,
   "id": "717f517e",
   "metadata": {},
   "outputs": [],
   "source": [
    "# определить функцию ``get_taglst``, которая выгружает все посты из глобального поиска по СПИСКУ* ключевых слов\n",
    "\n",
    "def get_tag_lst(tag_lst, start_time, end_time):\n",
    "    info = []\n",
    "    for tag in tag_lst:\n",
    "        L = get_tag(tag = tag, start_time = start_time, end_time = end_time)\n",
    "        info.extend(L)\n",
    "    return del_duplicates(info)"
   ]
  },
  {
   "cell_type": "code",
   "execution_count": 10,
   "id": "1400dfd3",
   "metadata": {},
   "outputs": [],
   "source": [
    "# определить функцию ``get_comments``, которая выгружает все комментарии к собранным постам\n",
    "\n",
    "def get_comments(sample):\n",
    "    sample = sample.set_index('post_id').T.to_dict()\n",
    "    comments = []\n",
    "    for k, v in tqdm_notebook(sample.items()):\n",
    "        N = math.ceil(v['comments'] / 100)\n",
    "        for i in range(N):\n",
    "            sleep(0.4)\n",
    "            info = vk_download(method = 'wall.getComments', \n",
    "                               params = f'owner_id={v[\"owner_id\"]}&post_id={k}&count=100&offset={i*100}')\n",
    "            try:\n",
    "                comments.extend(info['response']['items'])\n",
    "            except:\n",
    "                pass\n",
    "    for comment in tqdm_notebook(comments):\n",
    "        try:\n",
    "            if comment['thread']['count'] >= 1 and 'deleted' not in comment.keys():\n",
    "                n = math.ceil(comment['thread']['count'] / 100)\n",
    "                owner_id = comment['owner_id']\n",
    "                post_id = comment['post_id']\n",
    "                comment_id = comment['id']\n",
    "                for i in range(n):\n",
    "                    sleep(0.4)\n",
    "                    info = vk_download(method = 'wall.getComments', \n",
    "                                       params = f'owner_id={owner_id}&post_id={post_id}&comment_id={comment_id}&count=100&offset={i*100}')\n",
    "                    comments.extend(info['response']['items'])\n",
    "            else:\n",
    "                pass\n",
    "        except:\n",
    "            pass\n",
    "    comments_final = []\n",
    "    for k, v in sample.items():\n",
    "        for comment in tqdm_notebook(comments):\n",
    "            try:\n",
    "                if comment['post_id'] == k:\n",
    "                    comments_final.append({'owner_id': v['owner_id'], \n",
    "                                           'post_text': v['post_text'].replace('\\n', ''), \n",
    "                                           'comment_text': comment['text']})\n",
    "            except:\n",
    "                pass\n",
    "    return comments_final"
   ]
  },
  {
   "cell_type": "markdown",
   "id": "bc9af296",
   "metadata": {},
   "source": [
    "*Попробуем выгрузить из глобального поиска все посты с упоминанием ключевых слов ``безработица`` и ``банк`` за временной промежуток в полчаса: с 3 июля 2023 года 12 часов дня до 3 июля 2023 года 12 часов дня и 30 минут.*"
   ]
  },
  {
   "cell_type": "code",
   "execution_count": 11,
   "id": "96e76717",
   "metadata": {},
   "outputs": [],
   "source": [
    "# определим список ключевых слов в переменную ``tag_lst``\n",
    "\n",
    "tag_lst = ['безработица', 'банк']"
   ]
  },
  {
   "cell_type": "code",
   "execution_count": 12,
   "id": "f93631c0",
   "metadata": {},
   "outputs": [
    {
     "data": {
      "application/vnd.jupyter.widget-view+json": {
       "model_id": "d996d60c9f674e91a3acef748ca75137",
       "version_major": 2,
       "version_minor": 0
      },
      "text/plain": [
       "  0%|          | 0/10000 [00:00<?, ?it/s]"
      ]
     },
     "metadata": {},
     "output_type": "display_data"
    },
    {
     "name": "stdout",
     "output_type": "stream",
     "text": [
      "2023-07-03 12:00:01\n"
     ]
    },
    {
     "data": {
      "application/vnd.jupyter.widget-view+json": {
       "model_id": "c7535e9afb1b4013953c7fb9bcaa0735",
       "version_major": 2,
       "version_minor": 0
      },
      "text/plain": [
       "  0%|          | 0/10000 [00:00<?, ?it/s]"
      ]
     },
     "metadata": {},
     "output_type": "display_data"
    },
    {
     "name": "stdout",
     "output_type": "stream",
     "text": [
      "2023-07-03 12:21:23\n"
     ]
    }
   ],
   "source": [
    "# выгрузим все посты в переменную ``posts`` с помощью функции ``get_tag_lst``\n",
    "\n",
    "posts = get_tag_lst(tag_lst = tag_lst, \n",
    "                    start_time = '2023-07-03 12:00:00', \n",
    "                    end_time = '2023-07-03 12:30:00')"
   ]
  },
  {
   "cell_type": "code",
   "execution_count": 13,
   "id": "cc8f2c0a",
   "metadata": {},
   "outputs": [
    {
     "data": {
      "text/plain": [
       "213"
      ]
     },
     "execution_count": 13,
     "metadata": {},
     "output_type": "execute_result"
    }
   ],
   "source": [
    "# узнаем количество постов\n",
    "len(posts)"
   ]
  },
  {
   "cell_type": "code",
   "execution_count": 14,
   "id": "7f08286f",
   "metadata": {},
   "outputs": [],
   "source": [
    "posts = pd.DataFrame(posts)"
   ]
  },
  {
   "cell_type": "code",
   "execution_count": 15,
   "id": "4f3fa3c6",
   "metadata": {},
   "outputs": [
    {
     "data": {
      "text/html": [
       "<div>\n",
       "<style scoped>\n",
       "    .dataframe tbody tr th:only-of-type {\n",
       "        vertical-align: middle;\n",
       "    }\n",
       "\n",
       "    .dataframe tbody tr th {\n",
       "        vertical-align: top;\n",
       "    }\n",
       "\n",
       "    .dataframe thead th {\n",
       "        text-align: right;\n",
       "    }\n",
       "</style>\n",
       "<table border=\"1\" class=\"dataframe\">\n",
       "  <thead>\n",
       "    <tr style=\"text-align: right;\">\n",
       "      <th></th>\n",
       "      <th>owner_id</th>\n",
       "      <th>post_id</th>\n",
       "      <th>post_text</th>\n",
       "      <th>comments</th>\n",
       "      <th>date</th>\n",
       "    </tr>\n",
       "  </thead>\n",
       "  <tbody>\n",
       "    <tr>\n",
       "      <th>0</th>\n",
       "      <td>-92331941</td>\n",
       "      <td>135303</td>\n",
       "      <td>#конференция #лайкооткликаемо #анонимно #фэндо...</td>\n",
       "      <td>0</td>\n",
       "      <td>2023-07-03</td>\n",
       "    </tr>\n",
       "    <tr>\n",
       "      <th>1</th>\n",
       "      <td>-203811109</td>\n",
       "      <td>258</td>\n",
       "      <td>Уровень безработицы по методологии Международн...</td>\n",
       "      <td>0</td>\n",
       "      <td>2023-07-03</td>\n",
       "    </tr>\n",
       "    <tr>\n",
       "      <th>2</th>\n",
       "      <td>693135598</td>\n",
       "      <td>600</td>\n",
       "      <td>Уровень безработицы по методологии Международн...</td>\n",
       "      <td>0</td>\n",
       "      <td>2023-07-03</td>\n",
       "    </tr>\n",
       "    <tr>\n",
       "      <th>3</th>\n",
       "      <td>-59605730</td>\n",
       "      <td>322686</td>\n",
       "      <td>Дорогие жители города Тотьма. Хочу поделиться ...</td>\n",
       "      <td>4</td>\n",
       "      <td>2023-07-03</td>\n",
       "    </tr>\n",
       "    <tr>\n",
       "      <th>4</th>\n",
       "      <td>-217664303</td>\n",
       "      <td>393</td>\n",
       "      <td>📊Ситуация на рынке труда в муниципальном район...</td>\n",
       "      <td>0</td>\n",
       "      <td>2023-07-03</td>\n",
       "    </tr>\n",
       "    <tr>\n",
       "      <th>...</th>\n",
       "      <td>...</td>\n",
       "      <td>...</td>\n",
       "      <td>...</td>\n",
       "      <td>...</td>\n",
       "      <td>...</td>\n",
       "    </tr>\n",
       "    <tr>\n",
       "      <th>208</th>\n",
       "      <td>-217862702</td>\n",
       "      <td>1510</td>\n",
       "      <td>Решайте любые жизненные ситуации с  bincredit ...</td>\n",
       "      <td>0</td>\n",
       "      <td>2023-07-03</td>\n",
       "    </tr>\n",
       "    <tr>\n",
       "      <th>209</th>\n",
       "      <td>-207558833</td>\n",
       "      <td>29300</td>\n",
       "      <td>Закаточная машинка Кредмаш МЗП 1-1 с полуавтом...</td>\n",
       "      <td>0</td>\n",
       "      <td>2023-07-03</td>\n",
       "    </tr>\n",
       "    <tr>\n",
       "      <th>210</th>\n",
       "      <td>-176228802</td>\n",
       "      <td>37910</td>\n",
       "      <td>Это чаще встречается, нежели Вам кажется….Сего...</td>\n",
       "      <td>0</td>\n",
       "      <td>2023-07-03</td>\n",
       "    </tr>\n",
       "    <tr>\n",
       "      <th>211</th>\n",
       "      <td>-196808207</td>\n",
       "      <td>49360</td>\n",
       "      <td>Соседи, полезное. Теперь, сдавая банки и бутыл...</td>\n",
       "      <td>0</td>\n",
       "      <td>2023-07-03</td>\n",
       "    </tr>\n",
       "    <tr>\n",
       "      <th>212</th>\n",
       "      <td>-216426495</td>\n",
       "      <td>12264</td>\n",
       "      <td>Как выяснилось, много российских банков поддер...</td>\n",
       "      <td>0</td>\n",
       "      <td>2023-07-03</td>\n",
       "    </tr>\n",
       "  </tbody>\n",
       "</table>\n",
       "<p>213 rows × 5 columns</p>\n",
       "</div>"
      ],
      "text/plain": [
       "      owner_id  post_id                                          post_text  \\\n",
       "0    -92331941   135303  #конференция #лайкооткликаемо #анонимно #фэндо...   \n",
       "1   -203811109      258  Уровень безработицы по методологии Международн...   \n",
       "2    693135598      600  Уровень безработицы по методологии Международн...   \n",
       "3    -59605730   322686  Дорогие жители города Тотьма. Хочу поделиться ...   \n",
       "4   -217664303      393  📊Ситуация на рынке труда в муниципальном район...   \n",
       "..         ...      ...                                                ...   \n",
       "208 -217862702     1510  Решайте любые жизненные ситуации с  bincredit ...   \n",
       "209 -207558833    29300  Закаточная машинка Кредмаш МЗП 1-1 с полуавтом...   \n",
       "210 -176228802    37910  Это чаще встречается, нежели Вам кажется….Сего...   \n",
       "211 -196808207    49360  Соседи, полезное. Теперь, сдавая банки и бутыл...   \n",
       "212 -216426495    12264  Как выяснилось, много российских банков поддер...   \n",
       "\n",
       "     comments        date  \n",
       "0           0  2023-07-03  \n",
       "1           0  2023-07-03  \n",
       "2           0  2023-07-03  \n",
       "3           4  2023-07-03  \n",
       "4           0  2023-07-03  \n",
       "..        ...         ...  \n",
       "208         0  2023-07-03  \n",
       "209         0  2023-07-03  \n",
       "210         0  2023-07-03  \n",
       "211         0  2023-07-03  \n",
       "212         0  2023-07-03  \n",
       "\n",
       "[213 rows x 5 columns]"
      ]
     },
     "execution_count": 15,
     "metadata": {},
     "output_type": "execute_result"
    }
   ],
   "source": [
    "posts"
   ]
  },
  {
   "cell_type": "code",
   "execution_count": null,
   "id": "6b83146c",
   "metadata": {},
   "outputs": [],
   "source": []
  }
 ],
 "metadata": {
  "kernelspec": {
   "display_name": "Python 3 (ipykernel)",
   "language": "python",
   "name": "python3"
  },
  "language_info": {
   "codemirror_mode": {
    "name": "ipython",
    "version": 3
   },
   "file_extension": ".py",
   "mimetype": "text/x-python",
   "name": "python",
   "nbconvert_exporter": "python",
   "pygments_lexer": "ipython3",
   "version": "3.9.7"
  }
 },
 "nbformat": 4,
 "nbformat_minor": 5
}
