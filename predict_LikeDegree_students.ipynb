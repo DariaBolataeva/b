{
 "cells": [
  {
   "cell_type": "markdown",
   "metadata": {},
   "source": [
    "\n",
    "**Болатаева Дарья**\n"
   ]
  },
  {
   "cell_type": "markdown",
   "metadata": {},
   "source": [
    " ---"
   ]
  },
  {
   "cell_type": "code",
   "execution_count": 3,
   "metadata": {},
   "outputs": [],
   "source": [
    "import warnings\n",
    "warnings.filterwarnings('ignore')"
   ]
  },
  {
   "cell_type": "code",
   "execution_count": 4,
   "metadata": {},
   "outputs": [],
   "source": [
    "import pandas as pd\n",
    "import numpy as np"
   ]
  },
  {
   "cell_type": "markdown",
   "metadata": {},
   "source": [
    "Будем предсказывать удовлетворенность студентов их программой (`LikeDegree`).\n"
   ]
  },
  {
   "cell_type": "markdown",
   "metadata": {},
   "source": [
    "### Часть 1: Исследуем данные\n"
   ]
  },
  {
   "cell_type": "code",
   "execution_count": 5,
   "metadata": {},
   "outputs": [
    {
     "data": {
      "text/html": [
       "<div>\n",
       "<style scoped>\n",
       "    .dataframe tbody tr th:only-of-type {\n",
       "        vertical-align: middle;\n",
       "    }\n",
       "\n",
       "    .dataframe tbody tr th {\n",
       "        vertical-align: top;\n",
       "    }\n",
       "\n",
       "    .dataframe thead th {\n",
       "        text-align: right;\n",
       "    }\n",
       "</style>\n",
       "<table border=\"1\" class=\"dataframe\">\n",
       "  <thead>\n",
       "    <tr style=\"text-align: right;\">\n",
       "      <th></th>\n",
       "      <th>CertificationCourses</th>\n",
       "      <th>Gender</th>\n",
       "      <th>Department</th>\n",
       "      <th>Height(CM)</th>\n",
       "      <th>Weight(KG)</th>\n",
       "      <th>10Mark</th>\n",
       "      <th>12Mark</th>\n",
       "      <th>CollegeMark</th>\n",
       "      <th>Hobbies</th>\n",
       "      <th>DailyStudingTime</th>\n",
       "      <th>PreferToStudyIn</th>\n",
       "      <th>SalaryExpectation</th>\n",
       "      <th>LikeDegree</th>\n",
       "      <th>CareerBasedonDegree</th>\n",
       "      <th>GamesSpendingTime</th>\n",
       "      <th>TravellingTime</th>\n",
       "      <th>StressLevel</th>\n",
       "      <th>FinancialStatus</th>\n",
       "      <th>PartTimeJob?</th>\n",
       "    </tr>\n",
       "  </thead>\n",
       "  <tbody>\n",
       "    <tr>\n",
       "      <th>0</th>\n",
       "      <td>No</td>\n",
       "      <td>Male</td>\n",
       "      <td>BCA</td>\n",
       "      <td>100.0</td>\n",
       "      <td>58.0</td>\n",
       "      <td>79.0</td>\n",
       "      <td>65.0</td>\n",
       "      <td>80.0</td>\n",
       "      <td>Video Games</td>\n",
       "      <td>0 - 30 minute</td>\n",
       "      <td>Morning</td>\n",
       "      <td>40000</td>\n",
       "      <td>No</td>\n",
       "      <td>50%</td>\n",
       "      <td>1.30 - 2 hour</td>\n",
       "      <td>30 - 60 minutes</td>\n",
       "      <td>Bad</td>\n",
       "      <td>Bad</td>\n",
       "      <td>No</td>\n",
       "    </tr>\n",
       "    <tr>\n",
       "      <th>1</th>\n",
       "      <td>No</td>\n",
       "      <td>Female</td>\n",
       "      <td>BCA</td>\n",
       "      <td>90.0</td>\n",
       "      <td>40.0</td>\n",
       "      <td>70.0</td>\n",
       "      <td>80.0</td>\n",
       "      <td>70.0</td>\n",
       "      <td>Cinema</td>\n",
       "      <td>30 - 60 minute</td>\n",
       "      <td>Morning</td>\n",
       "      <td>15000</td>\n",
       "      <td>Yes</td>\n",
       "      <td>75%</td>\n",
       "      <td>1 - 1.30 hour</td>\n",
       "      <td>0 - 30 minutes</td>\n",
       "      <td>Bad</td>\n",
       "      <td>Bad</td>\n",
       "      <td>No</td>\n",
       "    </tr>\n",
       "    <tr>\n",
       "      <th>2</th>\n",
       "      <td>Yes</td>\n",
       "      <td>Male</td>\n",
       "      <td>BCA</td>\n",
       "      <td>159.0</td>\n",
       "      <td>78.0</td>\n",
       "      <td>69.5</td>\n",
       "      <td>61.0</td>\n",
       "      <td>55.0</td>\n",
       "      <td>Cinema</td>\n",
       "      <td>1 - 2 Hour</td>\n",
       "      <td>Anytime</td>\n",
       "      <td>13000</td>\n",
       "      <td>Yes</td>\n",
       "      <td>50%</td>\n",
       "      <td>More than 2 hour</td>\n",
       "      <td>30 - 60 minutes</td>\n",
       "      <td>Awful</td>\n",
       "      <td>Bad</td>\n",
       "      <td>No</td>\n",
       "    </tr>\n",
       "    <tr>\n",
       "      <th>3</th>\n",
       "      <td>Yes</td>\n",
       "      <td>Female</td>\n",
       "      <td>BCA</td>\n",
       "      <td>147.0</td>\n",
       "      <td>20.0</td>\n",
       "      <td>70.0</td>\n",
       "      <td>59.0</td>\n",
       "      <td>58.0</td>\n",
       "      <td>Reading books</td>\n",
       "      <td>1 - 2 Hour</td>\n",
       "      <td>Anytime</td>\n",
       "      <td>1500000</td>\n",
       "      <td>No</td>\n",
       "      <td>50%</td>\n",
       "      <td>1.30 - 2 hour</td>\n",
       "      <td>0 - 30 minutes</td>\n",
       "      <td>Bad</td>\n",
       "      <td>good</td>\n",
       "      <td>No</td>\n",
       "    </tr>\n",
       "    <tr>\n",
       "      <th>4</th>\n",
       "      <td>No</td>\n",
       "      <td>Male</td>\n",
       "      <td>BCA</td>\n",
       "      <td>170.0</td>\n",
       "      <td>54.0</td>\n",
       "      <td>40.0</td>\n",
       "      <td>65.0</td>\n",
       "      <td>30.0</td>\n",
       "      <td>Video Games</td>\n",
       "      <td>30 - 60 minute</td>\n",
       "      <td>Morning</td>\n",
       "      <td>50000</td>\n",
       "      <td>Yes</td>\n",
       "      <td>25%</td>\n",
       "      <td>1.30 - 2 hour</td>\n",
       "      <td>30 - 60 minutes</td>\n",
       "      <td>Good</td>\n",
       "      <td>good</td>\n",
       "      <td>No</td>\n",
       "    </tr>\n",
       "  </tbody>\n",
       "</table>\n",
       "</div>"
      ],
      "text/plain": [
       "  CertificationCourses  Gender Department  Height(CM)  Weight(KG)  10Mark  \\\n",
       "0                   No    Male        BCA       100.0        58.0    79.0   \n",
       "1                   No  Female        BCA        90.0        40.0    70.0   \n",
       "2                  Yes    Male        BCA       159.0        78.0    69.5   \n",
       "3                  Yes  Female        BCA       147.0        20.0    70.0   \n",
       "4                   No    Male        BCA       170.0        54.0    40.0   \n",
       "\n",
       "   12Mark  CollegeMark        Hobbies DailyStudingTime PreferToStudyIn  \\\n",
       "0    65.0         80.0    Video Games    0 - 30 minute         Morning   \n",
       "1    80.0         70.0         Cinema   30 - 60 minute         Morning   \n",
       "2    61.0         55.0         Cinema       1 - 2 Hour         Anytime   \n",
       "3    59.0         58.0  Reading books       1 - 2 Hour         Anytime   \n",
       "4    65.0         30.0    Video Games   30 - 60 minute         Morning   \n",
       "\n",
       "   SalaryExpectation LikeDegree CareerBasedonDegree GamesSpendingTime  \\\n",
       "0              40000         No                 50%     1.30 - 2 hour   \n",
       "1              15000        Yes                 75%     1 - 1.30 hour   \n",
       "2              13000        Yes                 50%  More than 2 hour   \n",
       "3            1500000         No                 50%     1.30 - 2 hour   \n",
       "4              50000        Yes                 25%     1.30 - 2 hour   \n",
       "\n",
       "   TravellingTime  StressLevel  FinancialStatus PartTimeJob?  \n",
       "0  30 - 60 minutes          Bad             Bad           No  \n",
       "1   0 - 30 minutes          Bad             Bad           No  \n",
       "2  30 - 60 minutes        Awful             Bad           No  \n",
       "3   0 - 30 minutes          Bad            good           No  \n",
       "4  30 - 60 minutes         Good            good           No  "
      ]
     },
     "execution_count": 5,
     "metadata": {},
     "output_type": "execute_result"
    }
   ],
   "source": [
    "df = pd.read_csv('Student_Behaviour.csv')\n",
    "df.head()"
   ]
  },
  {
   "cell_type": "markdown",
   "metadata": {},
   "source": [
    "Проверим колонки на наличие пропусков."
   ]
  },
  {
   "cell_type": "markdown",
   "metadata": {},
   "source": [
    "У нас имеется 235 наблюдений. Можно заметить, что пропущенных значений нет: количество ненулевых (non-null) значений совпадает с длиной столбцов."
   ]
  },
  {
   "cell_type": "code",
   "execution_count": 6,
   "metadata": {},
   "outputs": [
    {
     "name": "stdout",
     "output_type": "stream",
     "text": [
      "<class 'pandas.core.frame.DataFrame'>\n",
      "RangeIndex: 235 entries, 0 to 234\n",
      "Data columns (total 19 columns):\n",
      " #   Column                Non-Null Count  Dtype  \n",
      "---  ------                --------------  -----  \n",
      " 0   CertificationCourses  235 non-null    object \n",
      " 1   Gender                235 non-null    object \n",
      " 2   Department            235 non-null    object \n",
      " 3   Height(CM)            235 non-null    float64\n",
      " 4   Weight(KG)            235 non-null    float64\n",
      " 5   10Mark                235 non-null    float64\n",
      " 6   12Mark                235 non-null    float64\n",
      " 7   CollegeMark           235 non-null    float64\n",
      " 8   Hobbies               235 non-null    object \n",
      " 9   DailyStudingTime      235 non-null    object \n",
      " 10  PreferToStudyIn       235 non-null    object \n",
      " 11  SalaryExpectation     235 non-null    int64  \n",
      " 12  LikeDegree            235 non-null    object \n",
      " 13  CareerBasedonDegree   235 non-null    object \n",
      " 14  GamesSpendingTime     235 non-null    object \n",
      " 15  TravellingTime        235 non-null    object \n",
      " 16  StressLevel           235 non-null    object \n",
      " 17  FinancialStatus       235 non-null    object \n",
      " 18  PartTimeJob?          235 non-null    object \n",
      "dtypes: float64(5), int64(1), object(13)\n",
      "memory usage: 35.0+ KB\n"
     ]
    }
   ],
   "source": [
    "df.info()"
   ]
  },
  {
   "cell_type": "code",
   "execution_count": 7,
   "metadata": {},
   "outputs": [],
   "source": [
    "# но на всякий случай применим метод .dropna()\n",
    "\n",
    "df = df.dropna()"
   ]
  },
  {
   "cell_type": "markdown",
   "metadata": {},
   "source": [
    "Колонку `CareerBasedonDegree` приведем к числовому виду."
   ]
  },
  {
   "cell_type": "code",
   "execution_count": 8,
   "metadata": {},
   "outputs": [
    {
     "data": {
      "text/plain": [
       "0      0.50\n",
       "1      0.75\n",
       "2      0.50\n",
       "3      0.50\n",
       "4      0.25\n",
       "       ... \n",
       "230    0.50\n",
       "231    0.75\n",
       "232    0.50\n",
       "233    0.75\n",
       "234    0.75\n",
       "Name: CareerBasedonDegree, Length: 235, dtype: float64"
      ]
     },
     "execution_count": 8,
     "metadata": {},
     "output_type": "execute_result"
    }
   ],
   "source": [
    "df['CareerBasedonDegree'] = df[\"CareerBasedonDegree\"].apply(lambda x: float(x[:-1]) / 100)\n",
    "\n",
    "# посмотрим на новые значения\n",
    "\n",
    "df['CareerBasedonDegree']"
   ]
  },
  {
   "cell_type": "markdown",
   "metadata": {},
   "source": [
    "В массиве данных есть 3 поля с суффиксом `Time`, данные в них строковые, которые означают временной интервал. Попробуем извлечь минимальное время (левую границу интервала) для каждой из этих переменных и перевести в минуты."
   ]
  },
  {
   "cell_type": "code",
   "execution_count": 9,
   "metadata": {},
   "outputs": [
    {
     "name": "stdout",
     "output_type": "stream",
     "text": [
      "['30 - 60 minutes' '0 - 30 minutes' '1 - 1.30 hour' '2 - 2.30 hour'\n",
      " '1.30 - 2 hour' 'more than 3 hour' '2.30 - 3 hour']\n",
      "['0 - 30 minute' '30 - 60 minute' '1 - 2 Hour' '2 - 3 hour' '3 - 4 hour'\n",
      " 'More Than 4 hour']\n",
      "['1.30 - 2 hour' '1 - 1.30 hour' 'More than 2 hour' '30 - 60 Minute'\n",
      " '1 - 30 Minute' '0 Minute']\n"
     ]
    }
   ],
   "source": [
    "# выведем все возможные варианты записи времени \n",
    "\n",
    "print(df['TravellingTime '].unique())\n",
    "print(df['DailyStudingTime'].unique())\n",
    "print(df['GamesSpendingTime'].unique())"
   ]
  },
  {
   "cell_type": "code",
   "execution_count": 10,
   "metadata": {},
   "outputs": [],
   "source": [
    "# определим функцию, которая будет переводить часы в минуты \n",
    "\n",
    "def get_minutes(string):\n",
    "    lst = string.split(' ')\n",
    "    if (lst[-1] == 'hour' or lst[-1] == 'Hour') and 'More' not in lst and 'more' not in lst:\n",
    "        hour = float(lst[0])\n",
    "        if str(hour).split('.')[1] == '0':\n",
    "            minutes = hour * 60\n",
    "        else: \n",
    "            if len(str(hour).split('.')[1]) == 1:\n",
    "                minutes = float(str(hour).split('.')[0]) * 60 + float(str(hour).split('.')[1]) * 10\n",
    "            else:\n",
    "                minutes = float(str(hour).split('.')[0]) * 60 + float(str(hour).split('.')[1])\n",
    "    elif lst[-1] == 'Minute' or lst[-1] == 'minute' or lst[-1] == 'minutes':\n",
    "        minutes = float(lst[0])\n",
    "    elif lst[0] == 'More' or lst[0] == 'more':\n",
    "        minutes = float(lst[2]) * 60 \n",
    "    else:\n",
    "        minutes = 0 \n",
    "    return minutes\n",
    "        "
   ]
  },
  {
   "cell_type": "code",
   "execution_count": 11,
   "metadata": {},
   "outputs": [
    {
     "data": {
      "text/html": [
       "<div>\n",
       "<style scoped>\n",
       "    .dataframe tbody tr th:only-of-type {\n",
       "        vertical-align: middle;\n",
       "    }\n",
       "\n",
       "    .dataframe tbody tr th {\n",
       "        vertical-align: top;\n",
       "    }\n",
       "\n",
       "    .dataframe thead th {\n",
       "        text-align: right;\n",
       "    }\n",
       "</style>\n",
       "<table border=\"1\" class=\"dataframe\">\n",
       "  <thead>\n",
       "    <tr style=\"text-align: right;\">\n",
       "      <th></th>\n",
       "      <th>CertificationCourses</th>\n",
       "      <th>Gender</th>\n",
       "      <th>Department</th>\n",
       "      <th>Height(CM)</th>\n",
       "      <th>Weight(KG)</th>\n",
       "      <th>10Mark</th>\n",
       "      <th>12Mark</th>\n",
       "      <th>CollegeMark</th>\n",
       "      <th>Hobbies</th>\n",
       "      <th>DailyStudingTime</th>\n",
       "      <th>PreferToStudyIn</th>\n",
       "      <th>SalaryExpectation</th>\n",
       "      <th>LikeDegree</th>\n",
       "      <th>CareerBasedonDegree</th>\n",
       "      <th>GamesSpendingTime</th>\n",
       "      <th>TravellingTime</th>\n",
       "      <th>StressLevel</th>\n",
       "      <th>FinancialStatus</th>\n",
       "      <th>PartTimeJob?</th>\n",
       "    </tr>\n",
       "  </thead>\n",
       "  <tbody>\n",
       "    <tr>\n",
       "      <th>0</th>\n",
       "      <td>No</td>\n",
       "      <td>Male</td>\n",
       "      <td>BCA</td>\n",
       "      <td>100.0</td>\n",
       "      <td>58.0</td>\n",
       "      <td>79.0</td>\n",
       "      <td>65.0</td>\n",
       "      <td>80.0</td>\n",
       "      <td>Video Games</td>\n",
       "      <td>0.0</td>\n",
       "      <td>Morning</td>\n",
       "      <td>40000</td>\n",
       "      <td>No</td>\n",
       "      <td>0.50</td>\n",
       "      <td>90.0</td>\n",
       "      <td>30.0</td>\n",
       "      <td>Bad</td>\n",
       "      <td>Bad</td>\n",
       "      <td>No</td>\n",
       "    </tr>\n",
       "    <tr>\n",
       "      <th>1</th>\n",
       "      <td>No</td>\n",
       "      <td>Female</td>\n",
       "      <td>BCA</td>\n",
       "      <td>90.0</td>\n",
       "      <td>40.0</td>\n",
       "      <td>70.0</td>\n",
       "      <td>80.0</td>\n",
       "      <td>70.0</td>\n",
       "      <td>Cinema</td>\n",
       "      <td>30.0</td>\n",
       "      <td>Morning</td>\n",
       "      <td>15000</td>\n",
       "      <td>Yes</td>\n",
       "      <td>0.75</td>\n",
       "      <td>60.0</td>\n",
       "      <td>0.0</td>\n",
       "      <td>Bad</td>\n",
       "      <td>Bad</td>\n",
       "      <td>No</td>\n",
       "    </tr>\n",
       "    <tr>\n",
       "      <th>2</th>\n",
       "      <td>Yes</td>\n",
       "      <td>Male</td>\n",
       "      <td>BCA</td>\n",
       "      <td>159.0</td>\n",
       "      <td>78.0</td>\n",
       "      <td>69.5</td>\n",
       "      <td>61.0</td>\n",
       "      <td>55.0</td>\n",
       "      <td>Cinema</td>\n",
       "      <td>60.0</td>\n",
       "      <td>Anytime</td>\n",
       "      <td>13000</td>\n",
       "      <td>Yes</td>\n",
       "      <td>0.50</td>\n",
       "      <td>120.0</td>\n",
       "      <td>30.0</td>\n",
       "      <td>Awful</td>\n",
       "      <td>Bad</td>\n",
       "      <td>No</td>\n",
       "    </tr>\n",
       "    <tr>\n",
       "      <th>3</th>\n",
       "      <td>Yes</td>\n",
       "      <td>Female</td>\n",
       "      <td>BCA</td>\n",
       "      <td>147.0</td>\n",
       "      <td>20.0</td>\n",
       "      <td>70.0</td>\n",
       "      <td>59.0</td>\n",
       "      <td>58.0</td>\n",
       "      <td>Reading books</td>\n",
       "      <td>60.0</td>\n",
       "      <td>Anytime</td>\n",
       "      <td>1500000</td>\n",
       "      <td>No</td>\n",
       "      <td>0.50</td>\n",
       "      <td>90.0</td>\n",
       "      <td>0.0</td>\n",
       "      <td>Bad</td>\n",
       "      <td>good</td>\n",
       "      <td>No</td>\n",
       "    </tr>\n",
       "    <tr>\n",
       "      <th>4</th>\n",
       "      <td>No</td>\n",
       "      <td>Male</td>\n",
       "      <td>BCA</td>\n",
       "      <td>170.0</td>\n",
       "      <td>54.0</td>\n",
       "      <td>40.0</td>\n",
       "      <td>65.0</td>\n",
       "      <td>30.0</td>\n",
       "      <td>Video Games</td>\n",
       "      <td>30.0</td>\n",
       "      <td>Morning</td>\n",
       "      <td>50000</td>\n",
       "      <td>Yes</td>\n",
       "      <td>0.25</td>\n",
       "      <td>90.0</td>\n",
       "      <td>30.0</td>\n",
       "      <td>Good</td>\n",
       "      <td>good</td>\n",
       "      <td>No</td>\n",
       "    </tr>\n",
       "  </tbody>\n",
       "</table>\n",
       "</div>"
      ],
      "text/plain": [
       "  CertificationCourses  Gender Department  Height(CM)  Weight(KG)  10Mark  \\\n",
       "0                   No    Male        BCA       100.0        58.0    79.0   \n",
       "1                   No  Female        BCA        90.0        40.0    70.0   \n",
       "2                  Yes    Male        BCA       159.0        78.0    69.5   \n",
       "3                  Yes  Female        BCA       147.0        20.0    70.0   \n",
       "4                   No    Male        BCA       170.0        54.0    40.0   \n",
       "\n",
       "   12Mark  CollegeMark        Hobbies  DailyStudingTime PreferToStudyIn  \\\n",
       "0    65.0         80.0    Video Games               0.0         Morning   \n",
       "1    80.0         70.0         Cinema              30.0         Morning   \n",
       "2    61.0         55.0         Cinema              60.0         Anytime   \n",
       "3    59.0         58.0  Reading books              60.0         Anytime   \n",
       "4    65.0         30.0    Video Games              30.0         Morning   \n",
       "\n",
       "   SalaryExpectation LikeDegree  CareerBasedonDegree  GamesSpendingTime  \\\n",
       "0              40000         No                 0.50               90.0   \n",
       "1              15000        Yes                 0.75               60.0   \n",
       "2              13000        Yes                 0.50              120.0   \n",
       "3            1500000         No                 0.50               90.0   \n",
       "4              50000        Yes                 0.25               90.0   \n",
       "\n",
       "   TravellingTime  StressLevel  FinancialStatus PartTimeJob?  \n",
       "0             30.0          Bad             Bad           No  \n",
       "1              0.0          Bad             Bad           No  \n",
       "2             30.0        Awful             Bad           No  \n",
       "3              0.0          Bad            good           No  \n",
       "4             30.0         Good            good           No  "
      ]
     },
     "execution_count": 11,
     "metadata": {},
     "output_type": "execute_result"
    }
   ],
   "source": [
    "# для колонки ``DailyStudingTime``\n",
    "\n",
    "df['DailyStudingTime'] = df['DailyStudingTime'].apply(get_minutes)   \n",
    "\n",
    "# для колонки ``TravellingTime``\n",
    "\n",
    "df['TravellingTime '] = df['TravellingTime '].apply(get_minutes)\n",
    "\n",
    "# для колонки ``GamesSpendingTime``\n",
    "\n",
    "df['GamesSpendingTime'] = df['GamesSpendingTime'].apply(get_minutes)\n",
    "\n",
    "df.head()"
   ]
  },
  {
   "cell_type": "markdown",
   "metadata": {},
   "source": [
    "Выберем колонки (непрерывные переменные), которые будем использовать для предсказания целевой переменной с помощью knn"
   ]
  },
  {
   "cell_type": "code",
   "execution_count": 12,
   "metadata": {},
   "outputs": [],
   "source": [
    "X = df[['Height(CM)', 'Weight(KG)', '10Mark', '12Mark', 'CollegeMark', 'DailyStudingTime', 'SalaryExpectation',\n",
    "          'CareerBasedonDegree', 'GamesSpendingTime', 'TravellingTime ']]"
   ]
  },
  {
   "cell_type": "code",
   "execution_count": 11,
   "metadata": {},
   "outputs": [
    {
     "data": {
      "text/html": [
       "<div>\n",
       "<style scoped>\n",
       "    .dataframe tbody tr th:only-of-type {\n",
       "        vertical-align: middle;\n",
       "    }\n",
       "\n",
       "    .dataframe tbody tr th {\n",
       "        vertical-align: top;\n",
       "    }\n",
       "\n",
       "    .dataframe thead th {\n",
       "        text-align: right;\n",
       "    }\n",
       "</style>\n",
       "<table border=\"1\" class=\"dataframe\">\n",
       "  <thead>\n",
       "    <tr style=\"text-align: right;\">\n",
       "      <th></th>\n",
       "      <th>Height(CM)</th>\n",
       "      <th>Weight(KG)</th>\n",
       "      <th>10Mark</th>\n",
       "      <th>12Mark</th>\n",
       "      <th>CollegeMark</th>\n",
       "      <th>DailyStudingTime</th>\n",
       "      <th>SalaryExpectation</th>\n",
       "      <th>CareerBasedonDegree</th>\n",
       "      <th>GamesSpendingTime</th>\n",
       "      <th>TravellingTime</th>\n",
       "    </tr>\n",
       "  </thead>\n",
       "  <tbody>\n",
       "    <tr>\n",
       "      <th>count</th>\n",
       "      <td>235.000000</td>\n",
       "      <td>235.000000</td>\n",
       "      <td>235.000000</td>\n",
       "      <td>235.000000</td>\n",
       "      <td>235.000000</td>\n",
       "      <td>235.000000</td>\n",
       "      <td>2.350000e+02</td>\n",
       "      <td>235.000000</td>\n",
       "      <td>235.000000</td>\n",
       "      <td>235.000000</td>\n",
       "    </tr>\n",
       "    <tr>\n",
       "      <th>mean</th>\n",
       "      <td>157.402128</td>\n",
       "      <td>60.803830</td>\n",
       "      <td>76.842128</td>\n",
       "      <td>68.780128</td>\n",
       "      <td>70.660553</td>\n",
       "      <td>57.829787</td>\n",
       "      <td>3.248168e+04</td>\n",
       "      <td>0.695745</td>\n",
       "      <td>49.731915</td>\n",
       "      <td>49.404255</td>\n",
       "    </tr>\n",
       "    <tr>\n",
       "      <th>std</th>\n",
       "      <td>21.510805</td>\n",
       "      <td>14.895844</td>\n",
       "      <td>13.050800</td>\n",
       "      <td>11.016533</td>\n",
       "      <td>15.727446</td>\n",
       "      <td>58.433730</td>\n",
       "      <td>1.113146e+05</td>\n",
       "      <td>0.211787</td>\n",
       "      <td>39.137611</td>\n",
       "      <td>46.726911</td>\n",
       "    </tr>\n",
       "    <tr>\n",
       "      <th>min</th>\n",
       "      <td>4.500000</td>\n",
       "      <td>20.000000</td>\n",
       "      <td>7.400000</td>\n",
       "      <td>45.000000</td>\n",
       "      <td>1.000000</td>\n",
       "      <td>0.000000</td>\n",
       "      <td>0.000000e+00</td>\n",
       "      <td>0.000000</td>\n",
       "      <td>0.000000</td>\n",
       "      <td>0.000000</td>\n",
       "    </tr>\n",
       "    <tr>\n",
       "      <th>25%</th>\n",
       "      <td>152.000000</td>\n",
       "      <td>50.000000</td>\n",
       "      <td>70.000000</td>\n",
       "      <td>60.000000</td>\n",
       "      <td>60.000000</td>\n",
       "      <td>30.000000</td>\n",
       "      <td>1.500000e+04</td>\n",
       "      <td>0.500000</td>\n",
       "      <td>30.000000</td>\n",
       "      <td>30.000000</td>\n",
       "    </tr>\n",
       "    <tr>\n",
       "      <th>50%</th>\n",
       "      <td>160.000000</td>\n",
       "      <td>60.000000</td>\n",
       "      <td>80.000000</td>\n",
       "      <td>69.000000</td>\n",
       "      <td>70.000000</td>\n",
       "      <td>30.000000</td>\n",
       "      <td>2.000000e+04</td>\n",
       "      <td>0.750000</td>\n",
       "      <td>30.000000</td>\n",
       "      <td>30.000000</td>\n",
       "    </tr>\n",
       "    <tr>\n",
       "      <th>75%</th>\n",
       "      <td>170.000000</td>\n",
       "      <td>70.000000</td>\n",
       "      <td>86.250000</td>\n",
       "      <td>76.000000</td>\n",
       "      <td>80.000000</td>\n",
       "      <td>60.000000</td>\n",
       "      <td>2.500000e+04</td>\n",
       "      <td>0.750000</td>\n",
       "      <td>75.000000</td>\n",
       "      <td>60.000000</td>\n",
       "    </tr>\n",
       "    <tr>\n",
       "      <th>max</th>\n",
       "      <td>192.000000</td>\n",
       "      <td>106.000000</td>\n",
       "      <td>98.000000</td>\n",
       "      <td>94.000000</td>\n",
       "      <td>100.000000</td>\n",
       "      <td>240.000000</td>\n",
       "      <td>1.500000e+06</td>\n",
       "      <td>1.000000</td>\n",
       "      <td>120.000000</td>\n",
       "      <td>180.000000</td>\n",
       "    </tr>\n",
       "  </tbody>\n",
       "</table>\n",
       "</div>"
      ],
      "text/plain": [
       "       Height(CM)  Weight(KG)      10Mark      12Mark  CollegeMark  \\\n",
       "count  235.000000  235.000000  235.000000  235.000000   235.000000   \n",
       "mean   157.402128   60.803830   76.842128   68.780128    70.660553   \n",
       "std     21.510805   14.895844   13.050800   11.016533    15.727446   \n",
       "min      4.500000   20.000000    7.400000   45.000000     1.000000   \n",
       "25%    152.000000   50.000000   70.000000   60.000000    60.000000   \n",
       "50%    160.000000   60.000000   80.000000   69.000000    70.000000   \n",
       "75%    170.000000   70.000000   86.250000   76.000000    80.000000   \n",
       "max    192.000000  106.000000   98.000000   94.000000   100.000000   \n",
       "\n",
       "       DailyStudingTime  SalaryExpectation  CareerBasedonDegree  \\\n",
       "count        235.000000       2.350000e+02           235.000000   \n",
       "mean          57.829787       3.248168e+04             0.695745   \n",
       "std           58.433730       1.113146e+05             0.211787   \n",
       "min            0.000000       0.000000e+00             0.000000   \n",
       "25%           30.000000       1.500000e+04             0.500000   \n",
       "50%           30.000000       2.000000e+04             0.750000   \n",
       "75%           60.000000       2.500000e+04             0.750000   \n",
       "max          240.000000       1.500000e+06             1.000000   \n",
       "\n",
       "       GamesSpendingTime  TravellingTime   \n",
       "count         235.000000       235.000000  \n",
       "mean           49.731915        49.404255  \n",
       "std            39.137611        46.726911  \n",
       "min             0.000000         0.000000  \n",
       "25%            30.000000        30.000000  \n",
       "50%            30.000000        30.000000  \n",
       "75%            75.000000        60.000000  \n",
       "max           120.000000       180.000000  "
      ]
     },
     "execution_count": 11,
     "metadata": {},
     "output_type": "execute_result"
    }
   ],
   "source": [
    "# посмотрим на описательные статистики \n",
    "\n",
    "X.describe()"
   ]
  },
  {
   "cell_type": "markdown",
   "metadata": {},
   "source": [
    "По тому, как различаются значения среднего и медианы, можно судить о наличии выбросов: так, в случае с продолжительностью дневных занятий (``DailyStudingTime``) завышенное среднее (среднее = 57.82 vs медиана = 30) свидетельствует о нетипично высоких значениях переменной. Для уверенности можно рассчитать меру межквартильного размаха (разница между 1-ым и 3-им квартилями, а также нижнюю и верхнюю границы наблюдений."
   ]
  },
  {
   "cell_type": "code",
   "execution_count": 13,
   "metadata": {},
   "outputs": [
    {
     "name": "stdout",
     "output_type": "stream",
     "text": [
      "-15.0\n",
      "87.0\n"
     ]
    }
   ],
   "source": [
    "# найдем выбросы через межквартильный размах для переменной ``DailyStudingTime``\n",
    "\n",
    "# нижняя граница \n",
    "\n",
    "print(30 - 1.5 * (60 - 30))\n",
    "\n",
    "#верхняя граница \n",
    "\n",
    "print(60 + 1.5 * (170 - 152))"
   ]
  },
  {
   "cell_type": "markdown",
   "metadata": {},
   "source": [
    "О наличии выбросов, то есть таких значений, которые выходят за границы данного диапазона, свидетельствует хотя бы максимальное значение переменной ``DailySudungTime``, равное 240, в то время как верхняя граница находится на уровне 87. Выбросы имеются также и в других колонках (напр., минмальное значение роста студента = 4.5 см, что, видимо, является ошибкой измерения и/или заполнения данных)."
   ]
  },
  {
   "cell_type": "markdown",
   "metadata": {},
   "source": [
    "Посмотрим на распределение целевой переменной."
   ]
  },
  {
   "cell_type": "code",
   "execution_count": 14,
   "metadata": {},
   "outputs": [
    {
     "data": {
      "text/plain": [
       "array(['No', 'Yes'], dtype=object)"
      ]
     },
     "execution_count": 14,
     "metadata": {},
     "output_type": "execute_result"
    }
   ],
   "source": [
    "# переменная ``LikeDegree`` принимает всего два значения: \n",
    "\n",
    "df['LikeDegree'].unique()"
   ]
  },
  {
   "cell_type": "code",
   "execution_count": 15,
   "metadata": {},
   "outputs": [
    {
     "data": {
      "text/plain": [
       "Yes    215\n",
       "No      20\n",
       "Name: LikeDegree, dtype: int64"
      ]
     },
     "execution_count": 15,
     "metadata": {},
     "output_type": "execute_result"
    }
   ],
   "source": [
    "# посмотрим на соотношение классов\n",
    "\n",
    "class_count = df['LikeDegree'].value_counts()\n",
    "class_count"
   ]
  },
  {
   "cell_type": "code",
   "execution_count": 16,
   "metadata": {},
   "outputs": [
    {
     "data": {
      "text/plain": [
       "0.09302325581395349"
      ]
     },
     "execution_count": 16,
     "metadata": {},
     "output_type": "execute_result"
    }
   ],
   "source": [
    "imb = class_count.min() / class_count.max()\n",
    "imb"
   ]
  },
  {
   "cell_type": "code",
   "execution_count": 17,
   "metadata": {},
   "outputs": [
    {
     "data": {
      "text/plain": [
       "<AxesSubplot:title={'center':'Удовлетворенность обучением: Да (Yes) или Нет (No)?'}>"
      ]
     },
     "execution_count": 17,
     "metadata": {},
     "output_type": "execute_result"
    },
    {
     "data": {
      "image/png": "[encoded data removed]",
      "text/plain": [
       "<Figure size 432x288 with 1 Axes>"
      ]
     },
     "metadata": {
      "needs_background": "light"
     },
     "output_type": "display_data"
    }
   ],
   "source": [
    "class_count.plot(kind='bar', title=\"Удовлетворенность обучением: Да (Yes) или Нет (No)?\")"
   ]
  },
  {
   "cell_type": "markdown",
   "metadata": {},
   "source": [
    "Налицо дисбаланс классов: ответов \"Да\" в 10.75 раз больше, что говорит о серьезном смещении ответов в сторону только одного из вариантов. Мы не сможем полагаться на метрику ``Accuracy``, которая показывает долю обьектов, для которых был верно предсказан класс, поскольку высокая точность (напр., предсказываем, нравится ли человеку обучение) обеспечивается просто потому, что отрицательных ответов намного меньше. Нам больше подойтет метрика ``Precision`` (какая доля из тех, кого предсказали, реально соответствуют своему значению) и ``Recall`` (какая доля из тех, кого надо было идентифицировать, была идентифицирована). Они не зависят от соотношения классов и потому применимы в условиях несбалансированных выборок."
   ]
  },
  {
   "cell_type": "markdown",
   "metadata": {},
   "source": [
    "Переведем целевую переменную к численному формату."
   ]
  },
  {
   "cell_type": "code",
   "execution_count": 18,
   "metadata": {},
   "outputs": [
    {
     "data": {
      "text/html": [
       "<div>\n",
       "<style scoped>\n",
       "    .dataframe tbody tr th:only-of-type {\n",
       "        vertical-align: middle;\n",
       "    }\n",
       "\n",
       "    .dataframe tbody tr th {\n",
       "        vertical-align: top;\n",
       "    }\n",
       "\n",
       "    .dataframe thead th {\n",
       "        text-align: right;\n",
       "    }\n",
       "</style>\n",
       "<table border=\"1\" class=\"dataframe\">\n",
       "  <thead>\n",
       "    <tr style=\"text-align: right;\">\n",
       "      <th></th>\n",
       "      <th>CertificationCourses</th>\n",
       "      <th>Gender</th>\n",
       "      <th>Department</th>\n",
       "      <th>Height(CM)</th>\n",
       "      <th>Weight(KG)</th>\n",
       "      <th>10Mark</th>\n",
       "      <th>12Mark</th>\n",
       "      <th>CollegeMark</th>\n",
       "      <th>Hobbies</th>\n",
       "      <th>DailyStudingTime</th>\n",
       "      <th>PreferToStudyIn</th>\n",
       "      <th>SalaryExpectation</th>\n",
       "      <th>LikeDegree</th>\n",
       "      <th>CareerBasedonDegree</th>\n",
       "      <th>GamesSpendingTime</th>\n",
       "      <th>TravellingTime</th>\n",
       "      <th>StressLevel</th>\n",
       "      <th>FinancialStatus</th>\n",
       "      <th>PartTimeJob?</th>\n",
       "    </tr>\n",
       "  </thead>\n",
       "  <tbody>\n",
       "    <tr>\n",
       "      <th>0</th>\n",
       "      <td>No</td>\n",
       "      <td>Male</td>\n",
       "      <td>BCA</td>\n",
       "      <td>100.0</td>\n",
       "      <td>58.0</td>\n",
       "      <td>79.0</td>\n",
       "      <td>65.0</td>\n",
       "      <td>80.0</td>\n",
       "      <td>Video Games</td>\n",
       "      <td>0.0</td>\n",
       "      <td>Morning</td>\n",
       "      <td>40000</td>\n",
       "      <td>0</td>\n",
       "      <td>0.50</td>\n",
       "      <td>90.0</td>\n",
       "      <td>30.0</td>\n",
       "      <td>Bad</td>\n",
       "      <td>Bad</td>\n",
       "      <td>No</td>\n",
       "    </tr>\n",
       "    <tr>\n",
       "      <th>1</th>\n",
       "      <td>No</td>\n",
       "      <td>Female</td>\n",
       "      <td>BCA</td>\n",
       "      <td>90.0</td>\n",
       "      <td>40.0</td>\n",
       "      <td>70.0</td>\n",
       "      <td>80.0</td>\n",
       "      <td>70.0</td>\n",
       "      <td>Cinema</td>\n",
       "      <td>30.0</td>\n",
       "      <td>Morning</td>\n",
       "      <td>15000</td>\n",
       "      <td>1</td>\n",
       "      <td>0.75</td>\n",
       "      <td>60.0</td>\n",
       "      <td>0.0</td>\n",
       "      <td>Bad</td>\n",
       "      <td>Bad</td>\n",
       "      <td>No</td>\n",
       "    </tr>\n",
       "    <tr>\n",
       "      <th>2</th>\n",
       "      <td>Yes</td>\n",
       "      <td>Male</td>\n",
       "      <td>BCA</td>\n",
       "      <td>159.0</td>\n",
       "      <td>78.0</td>\n",
       "      <td>69.5</td>\n",
       "      <td>61.0</td>\n",
       "      <td>55.0</td>\n",
       "      <td>Cinema</td>\n",
       "      <td>60.0</td>\n",
       "      <td>Anytime</td>\n",
       "      <td>13000</td>\n",
       "      <td>1</td>\n",
       "      <td>0.50</td>\n",
       "      <td>120.0</td>\n",
       "      <td>30.0</td>\n",
       "      <td>Awful</td>\n",
       "      <td>Bad</td>\n",
       "      <td>No</td>\n",
       "    </tr>\n",
       "    <tr>\n",
       "      <th>3</th>\n",
       "      <td>Yes</td>\n",
       "      <td>Female</td>\n",
       "      <td>BCA</td>\n",
       "      <td>147.0</td>\n",
       "      <td>20.0</td>\n",
       "      <td>70.0</td>\n",
       "      <td>59.0</td>\n",
       "      <td>58.0</td>\n",
       "      <td>Reading books</td>\n",
       "      <td>60.0</td>\n",
       "      <td>Anytime</td>\n",
       "      <td>1500000</td>\n",
       "      <td>0</td>\n",
       "      <td>0.50</td>\n",
       "      <td>90.0</td>\n",
       "      <td>0.0</td>\n",
       "      <td>Bad</td>\n",
       "      <td>good</td>\n",
       "      <td>No</td>\n",
       "    </tr>\n",
       "    <tr>\n",
       "      <th>4</th>\n",
       "      <td>No</td>\n",
       "      <td>Male</td>\n",
       "      <td>BCA</td>\n",
       "      <td>170.0</td>\n",
       "      <td>54.0</td>\n",
       "      <td>40.0</td>\n",
       "      <td>65.0</td>\n",
       "      <td>30.0</td>\n",
       "      <td>Video Games</td>\n",
       "      <td>30.0</td>\n",
       "      <td>Morning</td>\n",
       "      <td>50000</td>\n",
       "      <td>1</td>\n",
       "      <td>0.25</td>\n",
       "      <td>90.0</td>\n",
       "      <td>30.0</td>\n",
       "      <td>Good</td>\n",
       "      <td>good</td>\n",
       "      <td>No</td>\n",
       "    </tr>\n",
       "  </tbody>\n",
       "</table>\n",
       "</div>"
      ],
      "text/plain": [
       "  CertificationCourses  Gender Department  Height(CM)  Weight(KG)  10Mark  \\\n",
       "0                   No    Male        BCA       100.0        58.0    79.0   \n",
       "1                   No  Female        BCA        90.0        40.0    70.0   \n",
       "2                  Yes    Male        BCA       159.0        78.0    69.5   \n",
       "3                  Yes  Female        BCA       147.0        20.0    70.0   \n",
       "4                   No    Male        BCA       170.0        54.0    40.0   \n",
       "\n",
       "   12Mark  CollegeMark        Hobbies  DailyStudingTime PreferToStudyIn  \\\n",
       "0    65.0         80.0    Video Games               0.0         Morning   \n",
       "1    80.0         70.0         Cinema              30.0         Morning   \n",
       "2    61.0         55.0         Cinema              60.0         Anytime   \n",
       "3    59.0         58.0  Reading books              60.0         Anytime   \n",
       "4    65.0         30.0    Video Games              30.0         Morning   \n",
       "\n",
       "   SalaryExpectation  LikeDegree  CareerBasedonDegree  GamesSpendingTime  \\\n",
       "0              40000           0                 0.50               90.0   \n",
       "1              15000           1                 0.75               60.0   \n",
       "2              13000           1                 0.50              120.0   \n",
       "3            1500000           0                 0.50               90.0   \n",
       "4              50000           1                 0.25               90.0   \n",
       "\n",
       "   TravellingTime  StressLevel  FinancialStatus PartTimeJob?  \n",
       "0             30.0          Bad             Bad           No  \n",
       "1              0.0          Bad             Bad           No  \n",
       "2             30.0        Awful             Bad           No  \n",
       "3              0.0          Bad            good           No  \n",
       "4             30.0         Good            good           No  "
      ]
     },
     "execution_count": 18,
     "metadata": {},
     "output_type": "execute_result"
    }
   ],
   "source": [
    "df[\"LikeDegree\"] = df[\"LikeDegree\"].apply(lambda x: 1 if x == 'Yes' else 0)\n",
    "df.head()"
   ]
  },
  {
   "cell_type": "markdown",
   "metadata": {},
   "source": [
    "### Часть 2: Строим модели\n"
   ]
  },
  {
   "cell_type": "code",
   "execution_count": 19,
   "metadata": {},
   "outputs": [],
   "source": [
    "y = df['LikeDegree']\n",
    "X = df[['Height(CM)', 'Weight(KG)', '10Mark', '12Mark', 'CollegeMark', 'DailyStudingTime', 'SalaryExpectation',\n",
    "        'CareerBasedonDegree', 'GamesSpendingTime', 'TravellingTime ']]\n",
    "\n",
    "\n",
    "from sklearn.model_selection import train_test_split\n",
    "\n",
    "# делим в пропорции 70 к 30\n",
    "\n",
    "y_train, y_test, X_train, X_test = train_test_split(y, X, test_size = 0.30, random_state = 42)"
   ]
  },
  {
   "cell_type": "markdown",
   "metadata": {},
   "source": [
    "Построим сначала наивную модель предсказания для целевой переменной. Наивная модель - это самая простая модель, без сложных зависимостей. Например, для регрессии наивная модель - среднее для целевой переменной. В данном случае наивной моделью может быть преположение \"все студенты (не)довольны\"."
   ]
  },
  {
   "cell_type": "code",
   "execution_count": 21,
   "metadata": {},
   "outputs": [
    {
     "data": {
      "text/plain": [
       "0.0"
      ]
     },
     "execution_count": 21,
     "metadata": {},
     "output_type": "execute_result"
    }
   ],
   "source": [
    "from sklearn.metrics import recall_score\n",
    "\n",
    "# построим наивную модель, где \"все студенты недовольны\"\n",
    "\n",
    "y_naive = np.zeros(len(y_test))\n",
    "\n",
    "# модель обнаружила 0% представителей класса Positive (1), что логично, если предполагать, что все студенты недовольны\n",
    "\n",
    "recall_score(y_test, y_naive)"
   ]
  },
  {
   "cell_type": "code",
   "execution_count": 22,
   "metadata": {},
   "outputs": [
    {
     "data": {
      "text/plain": [
       "1.0"
      ]
     },
     "execution_count": 22,
     "metadata": {},
     "output_type": "execute_result"
    }
   ],
   "source": [
    "from sklearn.metrics import recall_score\n",
    "\n",
    "# построим наивную модель, где \"все студенты довольны\"\n",
    "\n",
    "y_naive = np.ones(len(y_test))\n",
    "\n",
    "# обратная ситуация --> модель обнаружила 100% представителей класса Positive (1), что логично, если предполагать, \n",
    "# что все студенты довольны\n",
    "\n",
    "recall_score(y_test, y_naive)"
   ]
  },
  {
   "cell_type": "markdown",
   "metadata": {},
   "source": [
    "Построим модели ближайших соседей для 3, 5, 7 ближайших соседей. "
   ]
  },
  {
   "cell_type": "code",
   "execution_count": 24,
   "metadata": {},
   "outputs": [],
   "source": [
    "from sklearn.neighbors import KNeighborsClassifier\n",
    "\n",
    "# KNN с 3 соседями\n",
    "\n",
    "knn = KNeighborsClassifier(n_neighbors = 3) \n",
    "knn.fit(X_train, y_train)\n",
    "y_pred_knn3 = knn.predict(X_test)\n",
    "\n",
    "# KNN c 5 соседями\n",
    "\n",
    "knn = KNeighborsClassifier(n_neighbors = 5) \n",
    "knn.fit(X_train, y_train)\n",
    "y_pred_knn5 = knn.predict(X_test)\n",
    "\n",
    "# KNN с 7 cоседями\n",
    "\n",
    "knn = KNeighborsClassifier(n_neighbors = 7) \n",
    "knn.fit(X_train, y_train)\n",
    "y_pred_knn7 = knn.predict(X_test)"
   ]
  },
  {
   "cell_type": "markdown",
   "metadata": {},
   "source": [
    "Построим метрики качества на тестовой выборке."
   ]
  },
  {
   "cell_type": "code",
   "execution_count": 25,
   "metadata": {},
   "outputs": [
    {
     "name": "stdout",
     "output_type": "stream",
     "text": [
      "Naive Model\n",
      "recall score: 1.0\n",
      "precision score: 0.9154929577464789\n",
      "f1 score: 0.9558823529411764\n",
      "--------------------------------\n",
      "KNN with k = 3 Nearest Neighbors\n",
      "recall score: 0.9846153846153847\n",
      "precision score: 0.9142857142857143\n",
      "f1 score: 0.9481481481481482\n",
      "--------------------------------\n",
      "KNN with k = 5 Nearest Neighbors\n",
      "recall score: 1.0\n",
      "precision score: 0.9154929577464789\n",
      "f1 score: 0.9558823529411764\n",
      "--------------------------------\n",
      "KNN with k = 7 Nearest Neighbors\n",
      "recall score: 1.0\n",
      "precision score: 0.9154929577464789\n",
      "f1 score: 0.9558823529411764\n"
     ]
    }
   ],
   "source": [
    "from sklearn.metrics import recall_score, precision_score, f1_score\n",
    "\n",
    "print('Naive Model')\n",
    "print(f'recall score: {recall_score(y_test, y_naive)}')\n",
    "print(f'precision score: {precision_score(y_test, y_naive)}')\n",
    "print(f'f1 score: {f1_score(y_test, y_naive)}')\n",
    "\n",
    "print('--------------------------------')\n",
    "\n",
    "print('KNN with k = 3 Nearest Neighbors')\n",
    "print(f'recall score: {recall_score(y_test, y_pred_knn3)}')\n",
    "print(f'precision score: {precision_score(y_test, y_pred_knn3)}')\n",
    "print(f'f1 score: {f1_score(y_test, y_pred_knn3)}')\n",
    "\n",
    "print('--------------------------------')\n",
    "\n",
    "print('KNN with k = 5 Nearest Neighbors')\n",
    "print(f'recall score: {recall_score(y_test, y_pred_knn5)}')\n",
    "print(f'precision score: {precision_score(y_test, y_pred_knn5)}')\n",
    "print(f'f1 score: {f1_score(y_test, y_pred_knn5)}')\n",
    "\n",
    "print('--------------------------------')\n",
    "\n",
    "print('KNN with k = 7 Nearest Neighbors')\n",
    "print(f'recall score: {recall_score(y_test, y_pred_knn7)}')\n",
    "print(f'precision score: {precision_score(y_test, y_pred_knn7)}')\n",
    "print(f'f1 score: {f1_score(y_test, y_pred_knn7)}')"
   ]
  },
  {
   "cell_type": "code",
   "execution_count": 26,
   "metadata": {},
   "outputs": [
    {
     "name": "stdout",
     "output_type": "stream",
     "text": [
      "KNN with k = 3 Nearest Neighbors \n",
      "[1, 1, 1, 1, 1, 1, 1, 1, 1, 0, 1, 1, 1, 1, 1, 1, 1, 1, 1, 1, 1, 1, 1, 1, 1, 1, 1, 1, 1, 1, 1, 1, 1, 1, 1, 1, 1, 1, 1, 1, 1, 1, 1, 1, 1, 1, 1, 1, 1, 1, 1, 1, 1, 1, 1, 1, 1, 1, 1, 1, 1, 1, 1, 1, 1, 1, 1, 1, 1, 1, 1]\n",
      "  \n",
      "KNN with k = 5 Nearest Neigbors \n",
      "[1, 1, 1, 1, 1, 1, 1, 1, 1, 1, 1, 1, 1, 1, 1, 1, 1, 1, 1, 1, 1, 1, 1, 1, 1, 1, 1, 1, 1, 1, 1, 1, 1, 1, 1, 1, 1, 1, 1, 1, 1, 1, 1, 1, 1, 1, 1, 1, 1, 1, 1, 1, 1, 1, 1, 1, 1, 1, 1, 1, 1, 1, 1, 1, 1, 1, 1, 1, 1, 1, 1]\n",
      " \n",
      "KNN with k = 7 Nearest Neigbors \n",
      "[1, 1, 1, 1, 1, 1, 1, 1, 1, 1, 1, 1, 1, 1, 1, 1, 1, 1, 1, 1, 1, 1, 1, 1, 1, 1, 1, 1, 1, 1, 1, 1, 1, 1, 1, 1, 1, 1, 1, 1, 1, 1, 1, 1, 1, 1, 1, 1, 1, 1, 1, 1, 1, 1, 1, 1, 1, 1, 1, 1, 1, 1, 1, 1, 1, 1, 1, 1, 1, 1, 1]\n"
     ]
    }
   ],
   "source": [
    "# посмотрим на предсказания\n",
    "\n",
    "print(f'KNN with k = 3 Nearest Neighbors \\n{list(y_pred_knn3)}')\n",
    "print('  ')\n",
    "print(f'KNN with k = 5 Nearest Neigbors \\n{list(y_pred_knn5)}')\n",
    "print(' ')\n",
    "print(f'KNN with k = 7 Nearest Neigbors \\n{list(y_pred_knn7)}')"
   ]
  },
  {
   "cell_type": "markdown",
   "metadata": {},
   "source": [
    "Наилучшим качеством отличаются **KNN-модели с 5 и 7 ближайшими соседями**: KNN с 3 соседями уступает по значению метрик ``presicion_score`` и ``f1_score``, то же справедливо и для наивной модели (\"все студенты довольны\" или предсказывает для всех объектов \"ДА\"). Заметим также, что KNN с k = 3 – это единственная модель среди всех, которая предсказываем для одного из объектов \"0\" (и потому отличается от наивного прогноза)."
   ]
  },
  {
   "cell_type": "markdown",
   "metadata": {},
   "source": [
    "Применим шкалирование."
   ]
  },
  {
   "cell_type": "code",
   "execution_count": 27,
   "metadata": {},
   "outputs": [],
   "source": [
    "from sklearn.preprocessing import MinMaxScaler  \n",
    "scaler = MinMaxScaler()\n",
    "scaler.fit(X_train) \n",
    "X_train_sc = scaler.transform(X_train) \n",
    "X_test_sc = scaler.transform(X_test)"
   ]
  },
  {
   "cell_type": "code",
   "execution_count": 28,
   "metadata": {},
   "outputs": [],
   "source": [
    "from sklearn.neighbors import KNeighborsClassifier\n",
    "\n",
    "#KNN c 3 cоседями\n",
    "\n",
    "knn = KNeighborsClassifier(n_neighbors = 3)\n",
    "knn.fit(X_train_sc, y_train)\n",
    "y_pred_knn_3sc = knn.predict(X_test_sc)\n",
    "\n",
    "#KNN c 5 соседями\n",
    "\n",
    "knn = KNeighborsClassifier(n_neighbors = 5)\n",
    "knn.fit(X_train_sc, y_train)\n",
    "y_pred_knn_5sc = knn.predict(X_test_sc)\n",
    "\n",
    "#KNN c 7 cоседями\n",
    "\n",
    "knn = KNeighborsClassifier(n_neighbors = 7)\n",
    "knn.fit(X_train_sc, y_train)\n",
    "y_pred_knn_7sc = knn.predict(X_test_sc)"
   ]
  },
  {
   "cell_type": "code",
   "execution_count": 29,
   "metadata": {},
   "outputs": [
    {
     "name": "stdout",
     "output_type": "stream",
     "text": [
      "KNN with k = 3 Nearest Neighbors\n",
      "recall score: 0.9846153846153847\n",
      "precision score: 0.9142857142857143\n",
      "f1_score: 0.9481481481481482\n",
      "--------------------------------\n",
      "KNN with k = 5 Nearest Neighbors\n",
      "recall score: 1.0\n",
      "precision score: 0.9154929577464789\n",
      "f1_score: 0.9558823529411764\n",
      "--------------------------------\n",
      "KNN with k = 7 Nearest Neighbors\n",
      "recall score: 1.0\n",
      "precision score: 0.9154929577464789\n",
      "f1_score: 0.9558823529411764\n"
     ]
    }
   ],
   "source": [
    "print('KNN with k = 3 Nearest Neighbors')\n",
    "print(f'recall score: {recall_score(y_test, y_pred_knn_3sc)}')\n",
    "print(f'precision score: {precision_score(y_test, y_pred_knn_3sc)}')\n",
    "print(f'f1_score: {f1_score(y_test, y_pred_knn_3sc)}')\n",
    "\n",
    "print('--------------------------------')\n",
    "\n",
    "print('KNN with k = 5 Nearest Neighbors')\n",
    "print(f'recall score: {recall_score(y_test, y_pred_knn_5sc)}')\n",
    "print(f'precision score: {precision_score(y_test, y_pred_knn_5sc)}')\n",
    "print(f'f1_score: {f1_score(y_test, y_pred_knn_5sc)}')\n",
    "\n",
    "print('--------------------------------')\n",
    "\n",
    "print('KNN with k = 7 Nearest Neighbors')\n",
    "print(f'recall score: {recall_score(y_test, y_pred_knn_7sc)}')\n",
    "print(f'precision score: {precision_score(y_test, y_pred_knn_7sc)}')\n",
    "print(f'f1_score: {f1_score(y_test, y_pred_knn_7sc)}')"
   ]
  },
  {
   "cell_type": "markdown",
   "metadata": {},
   "source": [
    "*Можно заметить, что шкалирование никак не изменило ситуации.*"
   ]
  },
  {
   "cell_type": "markdown",
   "metadata": {},
   "source": [
    "Попробуем избавиться теперь от выбросов в исходной выборке."
   ]
  },
  {
   "cell_type": "code",
   "execution_count": 30,
   "metadata": {},
   "outputs": [],
   "source": [
    "# запишем в Q1 значение нижнего (или 1-го) квартиля для каждой колонки в датафрейме\n",
    "\n",
    "Q1 = df.quantile(0.25)\n",
    "\n",
    "# запишем в Q3 значение верхнего (или 3-го) квартиля для каждой колонки в датафрейме\n",
    "\n",
    "Q3 = df.quantile(0.75)\n",
    "\n",
    "# IQR - мехвартильный размах\n",
    "\n",
    "IQR = Q3 - Q1\n",
    "\n",
    "# вычислим границы интервала, за пределами которого будут располагаться выбросы (нетипично высокие/низкие значения) \n",
    "\n",
    "lower_lim  = Q1 - 1.5 * IQR\n",
    "upper_lim = Q3 + 1.5 * IQR"
   ]
  },
  {
   "cell_type": "code",
   "execution_count": 31,
   "metadata": {},
   "outputs": [
    {
     "data": {
      "text/html": [
       "<div>\n",
       "<style scoped>\n",
       "    .dataframe tbody tr th:only-of-type {\n",
       "        vertical-align: middle;\n",
       "    }\n",
       "\n",
       "    .dataframe tbody tr th {\n",
       "        vertical-align: top;\n",
       "    }\n",
       "\n",
       "    .dataframe thead th {\n",
       "        text-align: right;\n",
       "    }\n",
       "</style>\n",
       "<table border=\"1\" class=\"dataframe\">\n",
       "  <thead>\n",
       "    <tr style=\"text-align: right;\">\n",
       "      <th></th>\n",
       "      <th>Height(CM)</th>\n",
       "      <th>Weight(KG)</th>\n",
       "      <th>10Mark</th>\n",
       "      <th>12Mark</th>\n",
       "      <th>CollegeMark</th>\n",
       "      <th>DailyStudingTime</th>\n",
       "      <th>SalaryExpectation</th>\n",
       "      <th>LikeDegree</th>\n",
       "      <th>CareerBasedonDegree</th>\n",
       "      <th>GamesSpendingTime</th>\n",
       "      <th>TravellingTime</th>\n",
       "    </tr>\n",
       "  </thead>\n",
       "  <tbody>\n",
       "    <tr>\n",
       "      <th>count</th>\n",
       "      <td>123.000000</td>\n",
       "      <td>123.000000</td>\n",
       "      <td>123.000000</td>\n",
       "      <td>123.000000</td>\n",
       "      <td>123.000000</td>\n",
       "      <td>123.000000</td>\n",
       "      <td>123.000000</td>\n",
       "      <td>123.0</td>\n",
       "      <td>123.000000</td>\n",
       "      <td>123.000000</td>\n",
       "      <td>123.000000</td>\n",
       "    </tr>\n",
       "    <tr>\n",
       "      <th>mean</th>\n",
       "      <td>161.268293</td>\n",
       "      <td>61.227642</td>\n",
       "      <td>76.686992</td>\n",
       "      <td>68.260407</td>\n",
       "      <td>71.531138</td>\n",
       "      <td>32.682927</td>\n",
       "      <td>17550.032520</td>\n",
       "      <td>1.0</td>\n",
       "      <td>0.697154</td>\n",
       "      <td>48.756098</td>\n",
       "      <td>34.634146</td>\n",
       "    </tr>\n",
       "    <tr>\n",
       "      <th>std</th>\n",
       "      <td>11.870941</td>\n",
       "      <td>14.485048</td>\n",
       "      <td>12.335840</td>\n",
       "      <td>10.956428</td>\n",
       "      <td>11.653821</td>\n",
       "      <td>23.367105</td>\n",
       "      <td>7571.415777</td>\n",
       "      <td>0.0</td>\n",
       "      <td>0.184580</td>\n",
       "      <td>40.116294</td>\n",
       "      <td>27.707272</td>\n",
       "    </tr>\n",
       "    <tr>\n",
       "      <th>min</th>\n",
       "      <td>134.000000</td>\n",
       "      <td>32.000000</td>\n",
       "      <td>46.000000</td>\n",
       "      <td>48.000000</td>\n",
       "      <td>50.000000</td>\n",
       "      <td>0.000000</td>\n",
       "      <td>0.000000</td>\n",
       "      <td>1.0</td>\n",
       "      <td>0.250000</td>\n",
       "      <td>0.000000</td>\n",
       "      <td>0.000000</td>\n",
       "    </tr>\n",
       "    <tr>\n",
       "      <th>25%</th>\n",
       "      <td>152.000000</td>\n",
       "      <td>50.000000</td>\n",
       "      <td>69.000000</td>\n",
       "      <td>60.000000</td>\n",
       "      <td>60.000000</td>\n",
       "      <td>0.000000</td>\n",
       "      <td>15000.000000</td>\n",
       "      <td>1.0</td>\n",
       "      <td>0.500000</td>\n",
       "      <td>1.000000</td>\n",
       "      <td>0.000000</td>\n",
       "    </tr>\n",
       "    <tr>\n",
       "      <th>50%</th>\n",
       "      <td>160.000000</td>\n",
       "      <td>60.000000</td>\n",
       "      <td>79.000000</td>\n",
       "      <td>67.000000</td>\n",
       "      <td>70.000000</td>\n",
       "      <td>30.000000</td>\n",
       "      <td>18000.000000</td>\n",
       "      <td>1.0</td>\n",
       "      <td>0.750000</td>\n",
       "      <td>30.000000</td>\n",
       "      <td>30.000000</td>\n",
       "    </tr>\n",
       "    <tr>\n",
       "      <th>75%</th>\n",
       "      <td>170.000000</td>\n",
       "      <td>72.500000</td>\n",
       "      <td>86.750000</td>\n",
       "      <td>76.385000</td>\n",
       "      <td>80.000000</td>\n",
       "      <td>60.000000</td>\n",
       "      <td>20000.000000</td>\n",
       "      <td>1.0</td>\n",
       "      <td>0.750000</td>\n",
       "      <td>60.000000</td>\n",
       "      <td>60.000000</td>\n",
       "    </tr>\n",
       "    <tr>\n",
       "      <th>max</th>\n",
       "      <td>190.000000</td>\n",
       "      <td>95.000000</td>\n",
       "      <td>95.600000</td>\n",
       "      <td>90.000000</td>\n",
       "      <td>100.000000</td>\n",
       "      <td>60.000000</td>\n",
       "      <td>40000.000000</td>\n",
       "      <td>1.0</td>\n",
       "      <td>1.000000</td>\n",
       "      <td>120.000000</td>\n",
       "      <td>90.000000</td>\n",
       "    </tr>\n",
       "  </tbody>\n",
       "</table>\n",
       "</div>"
      ],
      "text/plain": [
       "       Height(CM)  Weight(KG)      10Mark      12Mark  CollegeMark  \\\n",
       "count  123.000000  123.000000  123.000000  123.000000   123.000000   \n",
       "mean   161.268293   61.227642   76.686992   68.260407    71.531138   \n",
       "std     11.870941   14.485048   12.335840   10.956428    11.653821   \n",
       "min    134.000000   32.000000   46.000000   48.000000    50.000000   \n",
       "25%    152.000000   50.000000   69.000000   60.000000    60.000000   \n",
       "50%    160.000000   60.000000   79.000000   67.000000    70.000000   \n",
       "75%    170.000000   72.500000   86.750000   76.385000    80.000000   \n",
       "max    190.000000   95.000000   95.600000   90.000000   100.000000   \n",
       "\n",
       "       DailyStudingTime  SalaryExpectation  LikeDegree  CareerBasedonDegree  \\\n",
       "count        123.000000         123.000000       123.0           123.000000   \n",
       "mean          32.682927       17550.032520         1.0             0.697154   \n",
       "std           23.367105        7571.415777         0.0             0.184580   \n",
       "min            0.000000           0.000000         1.0             0.250000   \n",
       "25%            0.000000       15000.000000         1.0             0.500000   \n",
       "50%           30.000000       18000.000000         1.0             0.750000   \n",
       "75%           60.000000       20000.000000         1.0             0.750000   \n",
       "max           60.000000       40000.000000         1.0             1.000000   \n",
       "\n",
       "       GamesSpendingTime  TravellingTime   \n",
       "count         123.000000       123.000000  \n",
       "mean           48.756098        34.634146  \n",
       "std            40.116294        27.707272  \n",
       "min             0.000000         0.000000  \n",
       "25%             1.000000         0.000000  \n",
       "50%            30.000000        30.000000  \n",
       "75%            60.000000        60.000000  \n",
       "max           120.000000        90.000000  "
      ]
     },
     "execution_count": 31,
     "metadata": {},
     "output_type": "execute_result"
    }
   ],
   "source": [
    "# отфильтруем датафрейм (и инвертируем) так, чтобы исключить значения, которые находятся ниже/выше рассчитанных границ\n",
    "\n",
    "IQR_df = df[~((df < lower_lim) | (df > upper_lim)).any(axis = 1)]\n",
    "\n",
    "# посмотрим на описательные статистики \n",
    "\n",
    "IQR_df.describe()"
   ]
  },
  {
   "cell_type": "markdown",
   "metadata": {},
   "source": [
    "Можно заметить, что среднее и медиана (50%) стали меньше отличаться. Изменились минимальные и максимальные значения переменных (поскольку прежние являлись выбросами и, как следствие, были удалены)."
   ]
  },
  {
   "cell_type": "code",
   "execution_count": 32,
   "metadata": {},
   "outputs": [],
   "source": [
    "y = IQR_df['LikeDegree']\n",
    "X = IQR_df[['Height(CM)', 'Weight(KG)', '10Mark', '12Mark', 'CollegeMark', 'DailyStudingTime', 'SalaryExpectation',\n",
    "            'CareerBasedonDegree', 'GamesSpendingTime', 'TravellingTime ']]\n",
    "\n",
    "from sklearn.model_selection import train_test_split\n",
    "\n",
    "y_train, y_test, X_train, X_test = train_test_split(y, X, test_size = 0.3, random_state = 42)"
   ]
  },
  {
   "cell_type": "code",
   "execution_count": 33,
   "metadata": {},
   "outputs": [
    {
     "name": "stdout",
     "output_type": "stream",
     "text": [
      "KNN with k = 3 Nearest Neighbors\n",
      "recall score: 1.0\n",
      "precision score: 1.0\n",
      "f1_score: 1.0\n",
      "--------------------------------\n",
      "KNN with k = 5 Nearest Neighbors\n",
      "recall score: 1.0\n",
      "precision score: 1.0\n",
      "f1_score: 1.0\n",
      "--------------------------------\n",
      "KNN with k = 7 Nearest Neighbors\n",
      "recall score: 1.0\n",
      "precision score: 1.0\n",
      "f1_score: 1.0\n"
     ]
    }
   ],
   "source": [
    "from sklearn.neighbors import KNeighborsClassifier\n",
    "from sklearn.metrics import recall_score, precision_score, f1_score\n",
    "\n",
    "# KNN c 3 cоседями\n",
    "\n",
    "knn = KNeighborsClassifier(n_neighbors = 3)\n",
    "knn.fit(X_train, y_train)\n",
    "y_pred_knn_3IQR = knn.predict(X_test)\n",
    "\n",
    "print('KNN with k = 3 Nearest Neighbors')\n",
    "print(f'recall score: {recall_score(y_test, y_pred_knn_3IQR)}')\n",
    "print(f'precision score: {precision_score(y_test, y_pred_knn_3IQR)}')\n",
    "print(f'f1_score: {f1_score(y_test, y_pred_knn_3IQR)}')\n",
    "\n",
    "# KNN c 5 cоседями\n",
    "\n",
    "knn = KNeighborsClassifier(n_neighbors = 5)\n",
    "knn.fit(X_train, y_train)\n",
    "y_pred_knn_5IQR = knn.predict(X_test)\n",
    "\n",
    "print('--------------------------------')\n",
    "\n",
    "print('KNN with k = 5 Nearest Neighbors')\n",
    "print(f'recall score: {recall_score(y_test, y_pred_knn_5IQR)}')\n",
    "print(f'precision score: {precision_score(y_test, y_pred_knn_5IQR)}')\n",
    "print(f'f1_score: {f1_score(y_test, y_pred_knn_5IQR)}')\n",
    "\n",
    "# KNN c 7 cоседями\n",
    "\n",
    "knn = KNeighborsClassifier(n_neighbors = 7)\n",
    "knn.fit(X_train, y_train)\n",
    "y_pred_knn_7IQR = knn.predict(X_test)\n",
    "\n",
    "print('--------------------------------')\n",
    "\n",
    "print('KNN with k = 7 Nearest Neighbors')\n",
    "print(f'recall score: {recall_score(y_test, y_pred_knn_7IQR)}')\n",
    "print(f'precision score: {precision_score(y_test, y_pred_knn_7IQR)}')\n",
    "print(f'f1_score: {f1_score(y_test, y_pred_knn_7IQR)}')"
   ]
  },
  {
   "cell_type": "markdown",
   "metadata": {},
   "source": [
    "Качество модели улучшилось, но этому есть простое объяснение: выборка крайне мала (в т.ч. после удаления части наблюдений), что объясняет высокое значение ``recall_score`` (полноты) и ``precision_score`` (точности). Т.е. модель научилась предсказывать всегда (или почти всегда) \"Да\", а в тестовую выборку из-за крайней несбалансированности классов попадают только положительные ответы."
   ]
  },
  {
   "cell_type": "markdown",
   "metadata": {},
   "source": [
    "Наилучшей можно считать KNN-модель с 5 ближайшами соседями (до шкалирования и с выбросами): больше не надо, т.к. качество не меняется, а наивная модель отличается меньшими значениями ``precision score`` (точность) и ``f1_score``. Но де-факто можно использовать и наивный прогноз, т.к. прогноз ничем не отличается, но такая модель является более экономной."
   ]
  },
  {
   "cell_type": "markdown",
   "metadata": {},
   "source": [
    "Попробуем улучшить качество с помощью случайного леса. "
   ]
  },
  {
   "cell_type": "code",
   "execution_count": 34,
   "metadata": {},
   "outputs": [
    {
     "name": "stdout",
     "output_type": "stream",
     "text": [
      "Random Forest\n",
      "recall score: 1.0\n",
      "precision score: 1.0\n",
      "f1 score: 1.0\n"
     ]
    }
   ],
   "source": [
    "from sklearn import ensemble \n",
    " \n",
    "forest = ensemble.RandomForestClassifier(\n",
    "    n_estimators = 300, \n",
    "    criterion = 'entropy', \n",
    "    max_depth = 6, \n",
    "    max_features = 'sqrt',\n",
    "    random_state = 42 \n",
    ")\n",
    "\n",
    "forest.fit(X_train, y_train)\n",
    "\n",
    "for_pred = forest.predict(X_test)\n",
    "\n",
    "print('Random Forest')\n",
    "print(f'recall score: {recall_score(y_test, for_pred)}')\n",
    "print(f'precision score: {precision_score(y_test, for_pred)}')\n",
    "print(f'f1 score: {f1_score(y_test, for_pred)}')\n"
   ]
  },
  {
   "cell_type": "code",
   "execution_count": 35,
   "metadata": {},
   "outputs": [
    {
     "data": {
      "text/plain": [
       "array([1, 1, 1, 1, 1, 1, 1, 1, 1, 1, 1, 1, 1, 1, 1, 1, 1, 1, 1, 1, 1, 1,\n",
       "       1, 1, 1, 1, 1, 1, 1, 1, 1, 1, 1, 1, 1, 1, 1], dtype=int64)"
      ]
     },
     "execution_count": 35,
     "metadata": {},
     "output_type": "execute_result"
    }
   ],
   "source": [
    "for_pred"
   ]
  },
  {
   "cell_type": "markdown",
   "metadata": {},
   "source": [
    "*По сравнению с алгоритмом KNN до удаления выбросов показатели ``recall score``, ``precision score`` и ``f1 score`` у случайного леса чуть лучше.*"
   ]
  },
  {
   "cell_type": "code",
   "execution_count": null,
   "metadata": {},
   "outputs": [],
   "source": []
  }
 ],
 "metadata": {
  "kernelspec": {
   "display_name": "Python 3 (ipykernel)",
   "language": "python",
   "name": "python3"
  },
  "language_info": {
   "codemirror_mode": {
    "name": "ipython",
    "version": 3
   },
   "file_extension": ".py",
   "mimetype": "text/x-python",
   "name": "python",
   "nbconvert_exporter": "python",
   "pygments_lexer": "ipython3",
   "version": "3.9.7"
  }
 },
 "nbformat": 4,
 "nbformat_minor": 4
}
