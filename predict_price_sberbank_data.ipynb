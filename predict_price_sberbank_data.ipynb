{
 "cells": [
  {
   "cell_type": "markdown",
   "metadata": {},
   "source": [
    "**Болатаева Дарья**\n",
    "\n",
    "Рассмотрим датасет с ценами на жильё в Москве за 2011-2015 год, данные предоставлены [Сбербанком](https://www.kaggle.com/c/sberbank-russian-housing-market/data).\n"
   ]
  },
  {
   "cell_type": "code",
   "execution_count": 1,
   "metadata": {},
   "outputs": [],
   "source": [
    "import pandas as pd\n",
    "import numpy as np\n",
    "import matplotlib.pyplot as plt\n",
    "%matplotlib inline"
   ]
  },
  {
   "cell_type": "code",
   "execution_count": 3,
   "metadata": {},
   "outputs": [],
   "source": [
    "df = pd.read_csv('sberbank_moscow.csv', sep = ',')"
   ]
  },
  {
   "cell_type": "code",
   "execution_count": 4,
   "metadata": {},
   "outputs": [
    {
     "data": {
      "text/html": [
       "<div>\n",
       "<style scoped>\n",
       "    .dataframe tbody tr th:only-of-type {\n",
       "        vertical-align: middle;\n",
       "    }\n",
       "\n",
       "    .dataframe tbody tr th {\n",
       "        vertical-align: top;\n",
       "    }\n",
       "\n",
       "    .dataframe thead th {\n",
       "        text-align: right;\n",
       "    }\n",
       "</style>\n",
       "<table border=\"1\" class=\"dataframe\">\n",
       "  <thead>\n",
       "    <tr style=\"text-align: right;\">\n",
       "      <th></th>\n",
       "      <th>id</th>\n",
       "      <th>timestamp</th>\n",
       "      <th>full_sq</th>\n",
       "      <th>life_sq</th>\n",
       "      <th>floor</th>\n",
       "      <th>max_floor</th>\n",
       "      <th>material</th>\n",
       "      <th>build_year</th>\n",
       "      <th>num_room</th>\n",
       "      <th>kitch_sq</th>\n",
       "      <th>...</th>\n",
       "      <th>cafe_count_5000_price_2500</th>\n",
       "      <th>cafe_count_5000_price_4000</th>\n",
       "      <th>cafe_count_5000_price_high</th>\n",
       "      <th>big_church_count_5000</th>\n",
       "      <th>church_count_5000</th>\n",
       "      <th>mosque_count_5000</th>\n",
       "      <th>leisure_count_5000</th>\n",
       "      <th>sport_count_5000</th>\n",
       "      <th>market_count_5000</th>\n",
       "      <th>price_doc</th>\n",
       "    </tr>\n",
       "  </thead>\n",
       "  <tbody>\n",
       "    <tr>\n",
       "      <th>0</th>\n",
       "      <td>1</td>\n",
       "      <td>2011-08-20</td>\n",
       "      <td>43</td>\n",
       "      <td>27.0</td>\n",
       "      <td>4.0</td>\n",
       "      <td>NaN</td>\n",
       "      <td>NaN</td>\n",
       "      <td>NaN</td>\n",
       "      <td>NaN</td>\n",
       "      <td>NaN</td>\n",
       "      <td>...</td>\n",
       "      <td>9</td>\n",
       "      <td>4</td>\n",
       "      <td>0</td>\n",
       "      <td>13</td>\n",
       "      <td>22</td>\n",
       "      <td>1</td>\n",
       "      <td>0</td>\n",
       "      <td>52</td>\n",
       "      <td>4</td>\n",
       "      <td>5850000</td>\n",
       "    </tr>\n",
       "    <tr>\n",
       "      <th>1</th>\n",
       "      <td>2</td>\n",
       "      <td>2011-08-23</td>\n",
       "      <td>34</td>\n",
       "      <td>19.0</td>\n",
       "      <td>3.0</td>\n",
       "      <td>NaN</td>\n",
       "      <td>NaN</td>\n",
       "      <td>NaN</td>\n",
       "      <td>NaN</td>\n",
       "      <td>NaN</td>\n",
       "      <td>...</td>\n",
       "      <td>15</td>\n",
       "      <td>3</td>\n",
       "      <td>0</td>\n",
       "      <td>15</td>\n",
       "      <td>29</td>\n",
       "      <td>1</td>\n",
       "      <td>10</td>\n",
       "      <td>66</td>\n",
       "      <td>14</td>\n",
       "      <td>6000000</td>\n",
       "    </tr>\n",
       "    <tr>\n",
       "      <th>2</th>\n",
       "      <td>3</td>\n",
       "      <td>2011-08-27</td>\n",
       "      <td>43</td>\n",
       "      <td>29.0</td>\n",
       "      <td>2.0</td>\n",
       "      <td>NaN</td>\n",
       "      <td>NaN</td>\n",
       "      <td>NaN</td>\n",
       "      <td>NaN</td>\n",
       "      <td>NaN</td>\n",
       "      <td>...</td>\n",
       "      <td>10</td>\n",
       "      <td>3</td>\n",
       "      <td>0</td>\n",
       "      <td>11</td>\n",
       "      <td>27</td>\n",
       "      <td>0</td>\n",
       "      <td>4</td>\n",
       "      <td>67</td>\n",
       "      <td>10</td>\n",
       "      <td>5700000</td>\n",
       "    </tr>\n",
       "    <tr>\n",
       "      <th>3</th>\n",
       "      <td>4</td>\n",
       "      <td>2011-09-01</td>\n",
       "      <td>89</td>\n",
       "      <td>50.0</td>\n",
       "      <td>9.0</td>\n",
       "      <td>NaN</td>\n",
       "      <td>NaN</td>\n",
       "      <td>NaN</td>\n",
       "      <td>NaN</td>\n",
       "      <td>NaN</td>\n",
       "      <td>...</td>\n",
       "      <td>11</td>\n",
       "      <td>2</td>\n",
       "      <td>1</td>\n",
       "      <td>4</td>\n",
       "      <td>4</td>\n",
       "      <td>0</td>\n",
       "      <td>0</td>\n",
       "      <td>26</td>\n",
       "      <td>3</td>\n",
       "      <td>13100000</td>\n",
       "    </tr>\n",
       "    <tr>\n",
       "      <th>4</th>\n",
       "      <td>5</td>\n",
       "      <td>2011-09-05</td>\n",
       "      <td>77</td>\n",
       "      <td>77.0</td>\n",
       "      <td>4.0</td>\n",
       "      <td>NaN</td>\n",
       "      <td>NaN</td>\n",
       "      <td>NaN</td>\n",
       "      <td>NaN</td>\n",
       "      <td>NaN</td>\n",
       "      <td>...</td>\n",
       "      <td>319</td>\n",
       "      <td>108</td>\n",
       "      <td>17</td>\n",
       "      <td>135</td>\n",
       "      <td>236</td>\n",
       "      <td>2</td>\n",
       "      <td>91</td>\n",
       "      <td>195</td>\n",
       "      <td>14</td>\n",
       "      <td>16331452</td>\n",
       "    </tr>\n",
       "  </tbody>\n",
       "</table>\n",
       "<p>5 rows × 292 columns</p>\n",
       "</div>"
      ],
      "text/plain": [
       "   id   timestamp  full_sq  life_sq  floor  max_floor  material  build_year  \\\n",
       "0   1  2011-08-20       43     27.0    4.0        NaN       NaN         NaN   \n",
       "1   2  2011-08-23       34     19.0    3.0        NaN       NaN         NaN   \n",
       "2   3  2011-08-27       43     29.0    2.0        NaN       NaN         NaN   \n",
       "3   4  2011-09-01       89     50.0    9.0        NaN       NaN         NaN   \n",
       "4   5  2011-09-05       77     77.0    4.0        NaN       NaN         NaN   \n",
       "\n",
       "   num_room  kitch_sq  ...  cafe_count_5000_price_2500  \\\n",
       "0       NaN       NaN  ...                           9   \n",
       "1       NaN       NaN  ...                          15   \n",
       "2       NaN       NaN  ...                          10   \n",
       "3       NaN       NaN  ...                          11   \n",
       "4       NaN       NaN  ...                         319   \n",
       "\n",
       "  cafe_count_5000_price_4000 cafe_count_5000_price_high  \\\n",
       "0                          4                          0   \n",
       "1                          3                          0   \n",
       "2                          3                          0   \n",
       "3                          2                          1   \n",
       "4                        108                         17   \n",
       "\n",
       "   big_church_count_5000  church_count_5000  mosque_count_5000  \\\n",
       "0                     13                 22                  1   \n",
       "1                     15                 29                  1   \n",
       "2                     11                 27                  0   \n",
       "3                      4                  4                  0   \n",
       "4                    135                236                  2   \n",
       "\n",
       "   leisure_count_5000  sport_count_5000  market_count_5000  price_doc  \n",
       "0                   0                52                  4    5850000  \n",
       "1                  10                66                 14    6000000  \n",
       "2                   4                67                 10    5700000  \n",
       "3                   0                26                  3   13100000  \n",
       "4                  91               195                 14   16331452  \n",
       "\n",
       "[5 rows x 292 columns]"
      ]
     },
     "execution_count": 4,
     "metadata": {},
     "output_type": "execute_result"
    }
   ],
   "source": [
    "df.head()"
   ]
  },
  {
   "cell_type": "code",
   "execution_count": 5,
   "metadata": {},
   "outputs": [
    {
     "data": {
      "text/plain": [
       "261026"
      ]
     },
     "execution_count": 5,
     "metadata": {},
     "output_type": "execute_result"
    }
   ],
   "source": [
    "# посчитаем, сколько в данных пропусков (суммарно)\n",
    "df.isnull().sum().sum()"
   ]
  },
  {
   "cell_type": "code",
   "execution_count": 6,
   "metadata": {},
   "outputs": [
    {
     "data": {
      "text/plain": [
       "0.029336899265998705"
      ]
     },
     "execution_count": 6,
     "metadata": {},
     "output_type": "execute_result"
    }
   ],
   "source": [
    "# посчитаем долю от общего количества значений\n",
    "df.isnull().sum().sum() / df.size "
   ]
  },
  {
   "cell_type": "markdown",
   "metadata": {},
   "source": [
    "*В данных всего 261.026 пропусков. Их доля от общего количества значений (ячеек таблицы) составляет 0.0293 (2.93%).*"
   ]
  },
  {
   "cell_type": "markdown",
   "metadata": {},
   "source": [
    "Про некоторые признаки данных не очень много, так что выберем колонки, смысл которых мы заведомо будем понимать. "
   ]
  },
  {
   "cell_type": "code",
   "execution_count": 7,
   "metadata": {},
   "outputs": [],
   "source": [
    "target_column = 'price_doc'"
   ]
  },
  {
   "cell_type": "code",
   "execution_count": 8,
   "metadata": {},
   "outputs": [],
   "source": [
    "nominal_feature_columns = [\n",
    "    'sub_area',\n",
    "    'ecology',\n",
    "]"
   ]
  },
  {
   "cell_type": "code",
   "execution_count": 9,
   "metadata": {},
   "outputs": [
    {
     "data": {
      "text/plain": [
       "sub_area    0\n",
       "ecology     0\n",
       "dtype: int64"
      ]
     },
     "execution_count": 9,
     "metadata": {},
     "output_type": "execute_result"
    }
   ],
   "source": [
    "df[nominal_feature_columns].isnull().sum()"
   ]
  },
  {
   "cell_type": "code",
   "execution_count": 10,
   "metadata": {},
   "outputs": [],
   "source": [
    "internal_feature_columns = [\n",
    "    'full_sq',\n",
    "    'floor',\n",
    "]"
   ]
  },
  {
   "cell_type": "code",
   "execution_count": 11,
   "metadata": {},
   "outputs": [
    {
     "data": {
      "text/plain": [
       "full_sq      0\n",
       "floor      167\n",
       "dtype: int64"
      ]
     },
     "execution_count": 11,
     "metadata": {},
     "output_type": "execute_result"
    }
   ],
   "source": [
    "df[internal_feature_columns].isnull().sum()"
   ]
  },
  {
   "cell_type": "code",
   "execution_count": 12,
   "metadata": {},
   "outputs": [],
   "source": [
    "school_feature_columns = [\n",
    "    'children_preschool',\n",
    "    'children_school',\n",
    "    'school_education_centers_top_20_raion',\n",
    "    'university_top_20_raion',\n",
    "    'additional_education_km',\n",
    "    'university_km',\n",
    "]"
   ]
  },
  {
   "cell_type": "code",
   "execution_count": 13,
   "metadata": {},
   "outputs": [
    {
     "data": {
      "text/plain": [
       "children_preschool                       0\n",
       "children_school                          0\n",
       "school_education_centers_top_20_raion    0\n",
       "university_top_20_raion                  0\n",
       "additional_education_km                  0\n",
       "university_km                            0\n",
       "dtype: int64"
      ]
     },
     "execution_count": 13,
     "metadata": {},
     "output_type": "execute_result"
    }
   ],
   "source": [
    "df[school_feature_columns].isnull().sum()"
   ]
  },
  {
   "cell_type": "code",
   "execution_count": 14,
   "metadata": {},
   "outputs": [],
   "source": [
    "infrastructure_feature_columns = [\n",
    "    'nuclear_reactor_km',\n",
    "    'power_transmission_line_km',\n",
    "    'public_transport_station_km',\n",
    "    'public_transport_station_min_walk',\n",
    "    'mkad_km',\n",
    "    'kremlin_km',\n",
    "]"
   ]
  },
  {
   "cell_type": "code",
   "execution_count": 15,
   "metadata": {},
   "outputs": [
    {
     "data": {
      "text/plain": [
       "nuclear_reactor_km                   0\n",
       "power_transmission_line_km           0\n",
       "public_transport_station_km          0\n",
       "public_transport_station_min_walk    0\n",
       "mkad_km                              0\n",
       "kremlin_km                           0\n",
       "dtype: int64"
      ]
     },
     "execution_count": 15,
     "metadata": {},
     "output_type": "execute_result"
    }
   ],
   "source": [
    "df[infrastructure_feature_columns].isnull().sum()"
   ]
  },
  {
   "cell_type": "markdown",
   "metadata": {},
   "source": [
    "Посмотрели на колонки и пропуски в них, теперь объединим всё в один список и будем использовать в качестве признаков только перечисленные столбцы:"
   ]
  },
  {
   "cell_type": "code",
   "execution_count": 16,
   "metadata": {},
   "outputs": [],
   "source": [
    "feature_columns = nominal_feature_columns + internal_feature_columns + school_feature_columns + infrastructure_feature_columns + [target_column]"
   ]
  },
  {
   "cell_type": "markdown",
   "metadata": {},
   "source": [
    "Сохраним таблицу только с перечисленными колонками и удалим из неё все строки с пропусками:"
   ]
  },
  {
   "cell_type": "code",
   "execution_count": 17,
   "metadata": {},
   "outputs": [],
   "source": [
    "# сохраняем таблицу (dff) только с колонками из списка ``feature_columns``\n",
    "dff = df[feature_columns]"
   ]
  },
  {
   "cell_type": "code",
   "execution_count": 18,
   "metadata": {},
   "outputs": [],
   "source": [
    "# удалим пропуски\n",
    "dff = dff.dropna()"
   ]
  },
  {
   "cell_type": "code",
   "execution_count": 19,
   "metadata": {},
   "outputs": [
    {
     "data": {
      "text/plain": [
       "(30304, 17)"
      ]
     },
     "execution_count": 19,
     "metadata": {},
     "output_type": "execute_result"
    }
   ],
   "source": [
    "dff.shape"
   ]
  },
  {
   "cell_type": "markdown",
   "metadata": {},
   "source": [
    "*В новой таблице осталось 17 колонок и 30.304 строки после удаления пропусков.*"
   ]
  },
  {
   "cell_type": "code",
   "execution_count": 20,
   "metadata": {},
   "outputs": [
    {
     "data": {
      "text/html": [
       "<div>\n",
       "<style scoped>\n",
       "    .dataframe tbody tr th:only-of-type {\n",
       "        vertical-align: middle;\n",
       "    }\n",
       "\n",
       "    .dataframe tbody tr th {\n",
       "        vertical-align: top;\n",
       "    }\n",
       "\n",
       "    .dataframe thead th {\n",
       "        text-align: right;\n",
       "    }\n",
       "</style>\n",
       "<table border=\"1\" class=\"dataframe\">\n",
       "  <thead>\n",
       "    <tr style=\"text-align: right;\">\n",
       "      <th></th>\n",
       "      <th>sub_area</th>\n",
       "      <th>ecology</th>\n",
       "      <th>full_sq</th>\n",
       "      <th>floor</th>\n",
       "      <th>children_preschool</th>\n",
       "      <th>children_school</th>\n",
       "      <th>school_education_centers_top_20_raion</th>\n",
       "      <th>university_top_20_raion</th>\n",
       "      <th>additional_education_km</th>\n",
       "      <th>university_km</th>\n",
       "      <th>nuclear_reactor_km</th>\n",
       "      <th>power_transmission_line_km</th>\n",
       "      <th>public_transport_station_km</th>\n",
       "      <th>public_transport_station_min_walk</th>\n",
       "      <th>mkad_km</th>\n",
       "      <th>kremlin_km</th>\n",
       "      <th>price_doc</th>\n",
       "    </tr>\n",
       "  </thead>\n",
       "  <tbody>\n",
       "    <tr>\n",
       "      <th>0</th>\n",
       "      <td>Bibirevo</td>\n",
       "      <td>good</td>\n",
       "      <td>43</td>\n",
       "      <td>4.0</td>\n",
       "      <td>9576</td>\n",
       "      <td>10309</td>\n",
       "      <td>0</td>\n",
       "      <td>0</td>\n",
       "      <td>0.947962</td>\n",
       "      <td>6.715026</td>\n",
       "      <td>5.718519</td>\n",
       "      <td>1.062513</td>\n",
       "      <td>0.274985</td>\n",
       "      <td>3.299822</td>\n",
       "      <td>1.422391</td>\n",
       "      <td>15.156211</td>\n",
       "      <td>5850000</td>\n",
       "    </tr>\n",
       "    <tr>\n",
       "      <th>1</th>\n",
       "      <td>Nagatinskij Zaton</td>\n",
       "      <td>excellent</td>\n",
       "      <td>34</td>\n",
       "      <td>3.0</td>\n",
       "      <td>6880</td>\n",
       "      <td>7759</td>\n",
       "      <td>0</td>\n",
       "      <td>0</td>\n",
       "      <td>1.072315</td>\n",
       "      <td>1.852560</td>\n",
       "      <td>3.489954</td>\n",
       "      <td>1.246149</td>\n",
       "      <td>0.065263</td>\n",
       "      <td>0.783160</td>\n",
       "      <td>9.503405</td>\n",
       "      <td>8.698054</td>\n",
       "      <td>6000000</td>\n",
       "    </tr>\n",
       "    <tr>\n",
       "      <th>2</th>\n",
       "      <td>Tekstil'shhiki</td>\n",
       "      <td>poor</td>\n",
       "      <td>43</td>\n",
       "      <td>2.0</td>\n",
       "      <td>5879</td>\n",
       "      <td>6207</td>\n",
       "      <td>0</td>\n",
       "      <td>0</td>\n",
       "      <td>0.391957</td>\n",
       "      <td>0.841254</td>\n",
       "      <td>7.506612</td>\n",
       "      <td>1.602183</td>\n",
       "      <td>0.328756</td>\n",
       "      <td>3.945073</td>\n",
       "      <td>5.604800</td>\n",
       "      <td>9.067885</td>\n",
       "      <td>5700000</td>\n",
       "    </tr>\n",
       "    <tr>\n",
       "      <th>3</th>\n",
       "      <td>Mitino</td>\n",
       "      <td>good</td>\n",
       "      <td>89</td>\n",
       "      <td>9.0</td>\n",
       "      <td>13087</td>\n",
       "      <td>13670</td>\n",
       "      <td>0</td>\n",
       "      <td>0</td>\n",
       "      <td>0.892674</td>\n",
       "      <td>10.903161</td>\n",
       "      <td>9.522538</td>\n",
       "      <td>1.767612</td>\n",
       "      <td>0.131597</td>\n",
       "      <td>1.579164</td>\n",
       "      <td>2.677824</td>\n",
       "      <td>19.487005</td>\n",
       "      <td>13100000</td>\n",
       "    </tr>\n",
       "    <tr>\n",
       "      <th>4</th>\n",
       "      <td>Basmannoe</td>\n",
       "      <td>excellent</td>\n",
       "      <td>77</td>\n",
       "      <td>4.0</td>\n",
       "      <td>5706</td>\n",
       "      <td>6748</td>\n",
       "      <td>0</td>\n",
       "      <td>2</td>\n",
       "      <td>0.810801</td>\n",
       "      <td>0.991683</td>\n",
       "      <td>8.671016</td>\n",
       "      <td>3.632640</td>\n",
       "      <td>0.071480</td>\n",
       "      <td>0.857764</td>\n",
       "      <td>11.616653</td>\n",
       "      <td>2.578671</td>\n",
       "      <td>16331452</td>\n",
       "    </tr>\n",
       "  </tbody>\n",
       "</table>\n",
       "</div>"
      ],
      "text/plain": [
       "            sub_area    ecology  full_sq  floor  children_preschool  \\\n",
       "0           Bibirevo       good       43    4.0                9576   \n",
       "1  Nagatinskij Zaton  excellent       34    3.0                6880   \n",
       "2     Tekstil'shhiki       poor       43    2.0                5879   \n",
       "3             Mitino       good       89    9.0               13087   \n",
       "4          Basmannoe  excellent       77    4.0                5706   \n",
       "\n",
       "   children_school  school_education_centers_top_20_raion  \\\n",
       "0            10309                                      0   \n",
       "1             7759                                      0   \n",
       "2             6207                                      0   \n",
       "3            13670                                      0   \n",
       "4             6748                                      0   \n",
       "\n",
       "   university_top_20_raion  additional_education_km  university_km  \\\n",
       "0                        0                 0.947962       6.715026   \n",
       "1                        0                 1.072315       1.852560   \n",
       "2                        0                 0.391957       0.841254   \n",
       "3                        0                 0.892674      10.903161   \n",
       "4                        2                 0.810801       0.991683   \n",
       "\n",
       "   nuclear_reactor_km  power_transmission_line_km  \\\n",
       "0            5.718519                    1.062513   \n",
       "1            3.489954                    1.246149   \n",
       "2            7.506612                    1.602183   \n",
       "3            9.522538                    1.767612   \n",
       "4            8.671016                    3.632640   \n",
       "\n",
       "   public_transport_station_km  public_transport_station_min_walk    mkad_km  \\\n",
       "0                     0.274985                           3.299822   1.422391   \n",
       "1                     0.065263                           0.783160   9.503405   \n",
       "2                     0.328756                           3.945073   5.604800   \n",
       "3                     0.131597                           1.579164   2.677824   \n",
       "4                     0.071480                           0.857764  11.616653   \n",
       "\n",
       "   kremlin_km  price_doc  \n",
       "0   15.156211    5850000  \n",
       "1    8.698054    6000000  \n",
       "2    9.067885    5700000  \n",
       "3   19.487005   13100000  \n",
       "4    2.578671   16331452  "
      ]
     },
     "execution_count": 20,
     "metadata": {},
     "output_type": "execute_result"
    }
   ],
   "source": [
    "dff.head()"
   ]
  },
  {
   "cell_type": "markdown",
   "metadata": {},
   "source": [
    "Посмотрим на районы:"
   ]
  },
  {
   "cell_type": "code",
   "execution_count": 26,
   "metadata": {},
   "outputs": [
    {
     "data": {
      "text/plain": [
       "array(['Bibirevo', 'Nagatinskij Zaton', \"Tekstil'shhiki\", 'Mitino',\n",
       "       'Basmannoe', 'Nizhegorodskoe', \"Sokol'niki\", 'Koptevo', 'Kuncevo',\n",
       "       'Kosino-Uhtomskoe', 'Zapadnoe Degunino', 'Presnenskoe',\n",
       "       'Lefortovo', \"Mar'ino\", \"Kuz'minki\", 'Nagornoe', \"Gol'janovo\",\n",
       "       'Vnukovo', 'Juzhnoe Tushino', 'Severnoe Tushino',\n",
       "       \"Chertanovo Central'noe\", 'Fili Davydkovo', 'Otradnoe',\n",
       "       'Novo-Peredelkino', 'Bogorodskoe', 'Jaroslavskoe', 'Strogino',\n",
       "       'Hovrino', \"Moskvorech'e-Saburovo\", 'Staroe Krjukovo', 'Ljublino',\n",
       "       'Caricyno', 'Veshnjaki', 'Danilovskoe', 'Preobrazhenskoe',\n",
       "       \"Kon'kovo\", 'Brateevo', 'Vostochnoe Izmajlovo', 'Vyhino-Zhulebino',\n",
       "       'Donskoe', 'Novogireevo', 'Juzhnoe Butovo', 'Sokol', 'Kurkino',\n",
       "       'Izmajlovo', 'Severnoe Medvedkovo', 'Rostokino',\n",
       "       'Orehovo-Borisovo Severnoe', 'Ochakovo-Matveevskoe', 'Taganskoe',\n",
       "       'Dmitrovskoe', 'Orehovo-Borisovo Juzhnoe', 'Teplyj Stan',\n",
       "       'Babushkinskoe', 'Pokrovskoe Streshnevo', 'Obruchevskoe',\n",
       "       'Filevskij Park', 'Troparevo-Nikulino', 'Severnoe Butovo',\n",
       "       'Hamovniki', 'Solncevo', 'Dorogomilovo', 'Timirjazevskoe',\n",
       "       'Lianozovo', 'Pechatniki', 'Krjukovo', 'Jasenevo',\n",
       "       'Chertanovo Severnoe', 'Rjazanskij', 'Silino', 'Ivanovskoe',\n",
       "       'Golovinskoe', 'Novokosino', 'Nagatino-Sadovniki',\n",
       "       'Birjulevo Vostochnoe', 'Severnoe Izmajlovo', 'Sokolinaja Gora',\n",
       "       'Vostochnoe Degunino', 'Prospekt Vernadskogo', 'Savelki',\n",
       "       'Ajeroport', 'Vojkovskoe', 'Beskudnikovskoe', 'Krylatskoe',\n",
       "       'Juzhnoportovoe', 'Perovo', 'Akademicheskoe', 'Horoshevo-Mnevniki',\n",
       "       'Shhukino', 'Kapotnja', 'Horoshevskoe', 'Marfino',\n",
       "       'Chertanovo Juzhnoe', 'Savelovskoe', 'Birjulevo Zapadnoe',\n",
       "       'Nekrasovka', 'Cheremushki', 'Sviblovo', 'Alekseevskoe',\n",
       "       \"Krasnosel'skoe\", 'Kotlovka', 'Zjuzino', 'Ostankinskoe',\n",
       "       'Tverskoe', 'Losinoostrovskoe', 'Butyrskoe', 'Matushkino',\n",
       "       'Metrogorodok', 'Juzhnoe Medvedkovo', 'Lomonosovskoe', 'Jakimanka',\n",
       "       'Mozhajskoe', 'Levoberezhnoe', \"Mar'ina Roshha\", 'Gagarinskoe',\n",
       "       \"Zamoskvorech'e\", \"Altuf'evskoe\", 'Ramenki', 'Zjablikovo',\n",
       "       'Meshhanskoe', 'Severnoe', 'Begovoe', 'Arbat',\n",
       "       'Poselenie Sosenskoe', 'Poselenie Moskovskij',\n",
       "       'Poselenie Pervomajskoe', 'Poselenie Desjonovskoe',\n",
       "       'Poselenie Voskresenskoe', 'Poselenie Mosrentgen',\n",
       "       'Troickij okrug', 'Poselenie Shherbinka',\n",
       "       'Poselenie Filimonkovskoe', 'Poselenie Vnukovskoe',\n",
       "       'Poselenie Marushkinskoe', 'Poselenie Shhapovskoe',\n",
       "       'Poselenie Rjazanovskoe', 'Poselenie Kokoshkino', 'Vostochnoe',\n",
       "       'Poselenie Krasnopahorskoe', 'Poselenie Novofedorovskoe',\n",
       "       'Poselenie Voronovskoe', 'Poselenie Klenovskoe',\n",
       "       'Poselenie Rogovskoe', 'Poselenie Kievskij', 'Molzhaninovskoe',\n",
       "       'Poselenie Mihajlovo-Jarcevskoe'], dtype=object)"
      ]
     },
     "execution_count": 26,
     "metadata": {},
     "output_type": "execute_result"
    }
   ],
   "source": [
    "dff['sub_area'].unique()"
   ]
  },
  {
   "cell_type": "code",
   "execution_count": 27,
   "metadata": {},
   "outputs": [
    {
     "data": {
      "text/plain": [
       "990000"
      ]
     },
     "execution_count": 27,
     "metadata": {},
     "output_type": "execute_result"
    }
   ],
   "source": [
    "# найдем минимальную цену квартир для района Орехово-Борисово Южное \n",
    "dff[dff['sub_area'] == 'Orehovo-Borisovo Juzhnoe']['price_doc'].min()"
   ]
  },
  {
   "cell_type": "code",
   "execution_count": 28,
   "metadata": {},
   "outputs": [
    {
     "data": {
      "text/plain": [
       "14400000"
      ]
     },
     "execution_count": 28,
     "metadata": {},
     "output_type": "execute_result"
    }
   ],
   "source": [
    "# найдем максимальную цену квартир для района Орехово-Борисово Южное \n",
    "dff[dff['sub_area'] == 'Orehovo-Borisovo Juzhnoe']['price_doc'].max()"
   ]
  },
  {
   "cell_type": "markdown",
   "metadata": {},
   "source": [
    "В районе Орехово-Борисово Южное минимальня цена квартир составлят 99.000 рублей. А максимальная -- 14.400.000 рублей.*"
   ]
  },
  {
   "cell_type": "code",
   "execution_count": 29,
   "metadata": {},
   "outputs": [],
   "source": [
    "# найдем районы с отличной экологией\n",
    "excellent_ecology_areas = dff[dff['ecology'] == 'excellent']['sub_area'].unique()"
   ]
  },
  {
   "cell_type": "code",
   "execution_count": 30,
   "metadata": {},
   "outputs": [
    {
     "name": "stdout",
     "output_type": "stream",
     "text": [
      "К районам с отличной экологией относят:\n",
      "Nagatinskij Zaton, Basmannoe, Mar'ino, Moskvorech'e-Saburovo, Ljublino, Danilovskoe, Caricyno, Brateevo, Donskoe, Taganskoe, Bogorodskoe, Hamovniki, Pechatniki, Orehovo-Borisovo Severnoe, Nagatino-Sadovniki, Sokolinaja Gora, Vojkovskoe, Juzhnoportovoe, Kapotnja, Krasnosel'skoe, Tverskoe, Perovo, Presnenskoe, Jakimanka, Zamoskvorech'e, Tekstil'shhiki, Meshhanskoe, Zjablikovo, Lefortovo, Nizhegorodskoe, Arbat, Koptevo, Nagornoe, Golovinskoe, Kotlovka\n"
     ]
    }
   ],
   "source": [
    "print('К районам с отличной экологией относят:')\n",
    "print(*excellent_ecology_areas, sep = ', ')"
   ]
  },
  {
   "cell_type": "markdown",
   "metadata": {},
   "source": [
    "Посчитайем коэффициенты корреляции между колонками таблицы:"
   ]
  },
  {
   "cell_type": "code",
   "execution_count": 31,
   "metadata": {},
   "outputs": [
    {
     "data": {
      "text/plain": [
       "['full_sq',\n",
       " 'floor',\n",
       " 'children_preschool',\n",
       " 'children_school',\n",
       " 'school_education_centers_top_20_raion',\n",
       " 'university_top_20_raion',\n",
       " 'additional_education_km',\n",
       " 'university_km',\n",
       " 'nuclear_reactor_km',\n",
       " 'power_transmission_line_km',\n",
       " 'public_transport_station_km',\n",
       " 'public_transport_station_min_walk',\n",
       " 'mkad_km',\n",
       " 'kremlin_km',\n",
       " 'price_doc']"
      ]
     },
     "execution_count": 31,
     "metadata": {},
     "output_type": "execute_result"
    }
   ],
   "source": [
    "numeric_feature_columns = internal_feature_columns + school_feature_columns + infrastructure_feature_columns + [target_column]\n",
    "numeric_feature_columns"
   ]
  },
  {
   "cell_type": "code",
   "execution_count": 32,
   "metadata": {},
   "outputs": [
    {
     "data": {
      "text/html": [
       "<div>\n",
       "<style scoped>\n",
       "    .dataframe tbody tr th:only-of-type {\n",
       "        vertical-align: middle;\n",
       "    }\n",
       "\n",
       "    .dataframe tbody tr th {\n",
       "        vertical-align: top;\n",
       "    }\n",
       "\n",
       "    .dataframe thead th {\n",
       "        text-align: right;\n",
       "    }\n",
       "</style>\n",
       "<table border=\"1\" class=\"dataframe\">\n",
       "  <thead>\n",
       "    <tr style=\"text-align: right;\">\n",
       "      <th></th>\n",
       "      <th>full_sq</th>\n",
       "      <th>floor</th>\n",
       "      <th>children_preschool</th>\n",
       "      <th>children_school</th>\n",
       "      <th>school_education_centers_top_20_raion</th>\n",
       "      <th>university_top_20_raion</th>\n",
       "      <th>additional_education_km</th>\n",
       "      <th>university_km</th>\n",
       "      <th>nuclear_reactor_km</th>\n",
       "      <th>power_transmission_line_km</th>\n",
       "      <th>public_transport_station_km</th>\n",
       "      <th>public_transport_station_min_walk</th>\n",
       "      <th>mkad_km</th>\n",
       "      <th>kremlin_km</th>\n",
       "      <th>price_doc</th>\n",
       "    </tr>\n",
       "  </thead>\n",
       "  <tbody>\n",
       "    <tr>\n",
       "      <th>full_sq</th>\n",
       "      <td>1.000000</td>\n",
       "      <td>0.089649</td>\n",
       "      <td>-0.023715</td>\n",
       "      <td>-0.022383</td>\n",
       "      <td>0.021193</td>\n",
       "      <td>0.045597</td>\n",
       "      <td>0.032927</td>\n",
       "      <td>0.048182</td>\n",
       "      <td>0.024337</td>\n",
       "      <td>0.039780</td>\n",
       "      <td>0.026128</td>\n",
       "      <td>0.026128</td>\n",
       "      <td>0.045574</td>\n",
       "      <td>0.027346</td>\n",
       "      <td>0.342376</td>\n",
       "    </tr>\n",
       "    <tr>\n",
       "      <th>floor</th>\n",
       "      <td>0.089649</td>\n",
       "      <td>1.000000</td>\n",
       "      <td>-0.012001</td>\n",
       "      <td>-0.016466</td>\n",
       "      <td>-0.009889</td>\n",
       "      <td>0.001380</td>\n",
       "      <td>-0.054134</td>\n",
       "      <td>0.024156</td>\n",
       "      <td>-0.006406</td>\n",
       "      <td>-0.026353</td>\n",
       "      <td>-0.101283</td>\n",
       "      <td>-0.101283</td>\n",
       "      <td>-0.077007</td>\n",
       "      <td>0.045939</td>\n",
       "      <td>0.117447</td>\n",
       "    </tr>\n",
       "    <tr>\n",
       "      <th>children_preschool</th>\n",
       "      <td>-0.023715</td>\n",
       "      <td>-0.012001</td>\n",
       "      <td>1.000000</td>\n",
       "      <td>0.987107</td>\n",
       "      <td>0.102884</td>\n",
       "      <td>-0.003898</td>\n",
       "      <td>-0.357490</td>\n",
       "      <td>-0.323032</td>\n",
       "      <td>-0.446021</td>\n",
       "      <td>-0.336554</td>\n",
       "      <td>-0.246053</td>\n",
       "      <td>-0.246053</td>\n",
       "      <td>-0.345382</td>\n",
       "      <td>-0.306899</td>\n",
       "      <td>0.133953</td>\n",
       "    </tr>\n",
       "    <tr>\n",
       "      <th>children_school</th>\n",
       "      <td>-0.022383</td>\n",
       "      <td>-0.016466</td>\n",
       "      <td>0.987107</td>\n",
       "      <td>1.000000</td>\n",
       "      <td>0.140563</td>\n",
       "      <td>0.043620</td>\n",
       "      <td>-0.362353</td>\n",
       "      <td>-0.329804</td>\n",
       "      <td>-0.468722</td>\n",
       "      <td>-0.337588</td>\n",
       "      <td>-0.245446</td>\n",
       "      <td>-0.245446</td>\n",
       "      <td>-0.332682</td>\n",
       "      <td>-0.334289</td>\n",
       "      <td>0.138888</td>\n",
       "    </tr>\n",
       "    <tr>\n",
       "      <th>school_education_centers_top_20_raion</th>\n",
       "      <td>0.021193</td>\n",
       "      <td>-0.009889</td>\n",
       "      <td>0.102884</td>\n",
       "      <td>0.140563</td>\n",
       "      <td>1.000000</td>\n",
       "      <td>0.319432</td>\n",
       "      <td>-0.147228</td>\n",
       "      <td>-0.122966</td>\n",
       "      <td>-0.133290</td>\n",
       "      <td>-0.062590</td>\n",
       "      <td>-0.059873</td>\n",
       "      <td>-0.059873</td>\n",
       "      <td>0.059378</td>\n",
       "      <td>-0.230502</td>\n",
       "      <td>0.102312</td>\n",
       "    </tr>\n",
       "    <tr>\n",
       "      <th>university_top_20_raion</th>\n",
       "      <td>0.045597</td>\n",
       "      <td>0.001380</td>\n",
       "      <td>-0.003898</td>\n",
       "      <td>0.043620</td>\n",
       "      <td>0.319432</td>\n",
       "      <td>1.000000</td>\n",
       "      <td>-0.139777</td>\n",
       "      <td>-0.228673</td>\n",
       "      <td>-0.181604</td>\n",
       "      <td>-0.023063</td>\n",
       "      <td>-0.051951</td>\n",
       "      <td>-0.051951</td>\n",
       "      <td>0.222038</td>\n",
       "      <td>-0.396396</td>\n",
       "      <td>0.164807</td>\n",
       "    </tr>\n",
       "    <tr>\n",
       "      <th>additional_education_km</th>\n",
       "      <td>0.032927</td>\n",
       "      <td>-0.054134</td>\n",
       "      <td>-0.357490</td>\n",
       "      <td>-0.362353</td>\n",
       "      <td>-0.147228</td>\n",
       "      <td>-0.139777</td>\n",
       "      <td>1.000000</td>\n",
       "      <td>0.608360</td>\n",
       "      <td>0.603981</td>\n",
       "      <td>0.568868</td>\n",
       "      <td>0.729024</td>\n",
       "      <td>0.729024</td>\n",
       "      <td>0.472924</td>\n",
       "      <td>0.569672</td>\n",
       "      <td>-0.148375</td>\n",
       "    </tr>\n",
       "    <tr>\n",
       "      <th>university_km</th>\n",
       "      <td>0.048182</td>\n",
       "      <td>0.024156</td>\n",
       "      <td>-0.323032</td>\n",
       "      <td>-0.329804</td>\n",
       "      <td>-0.122966</td>\n",
       "      <td>-0.228673</td>\n",
       "      <td>0.608360</td>\n",
       "      <td>1.000000</td>\n",
       "      <td>0.722317</td>\n",
       "      <td>0.579803</td>\n",
       "      <td>0.627391</td>\n",
       "      <td>0.627391</td>\n",
       "      <td>0.371755</td>\n",
       "      <td>0.757989</td>\n",
       "      <td>-0.217810</td>\n",
       "    </tr>\n",
       "    <tr>\n",
       "      <th>nuclear_reactor_km</th>\n",
       "      <td>0.024337</td>\n",
       "      <td>-0.006406</td>\n",
       "      <td>-0.446021</td>\n",
       "      <td>-0.468722</td>\n",
       "      <td>-0.133290</td>\n",
       "      <td>-0.181604</td>\n",
       "      <td>0.603981</td>\n",
       "      <td>0.722317</td>\n",
       "      <td>1.000000</td>\n",
       "      <td>0.775593</td>\n",
       "      <td>0.544186</td>\n",
       "      <td>0.544186</td>\n",
       "      <td>0.499009</td>\n",
       "      <td>0.801887</td>\n",
       "      <td>-0.257878</td>\n",
       "    </tr>\n",
       "    <tr>\n",
       "      <th>power_transmission_line_km</th>\n",
       "      <td>0.039780</td>\n",
       "      <td>-0.026353</td>\n",
       "      <td>-0.336554</td>\n",
       "      <td>-0.337588</td>\n",
       "      <td>-0.062590</td>\n",
       "      <td>-0.023063</td>\n",
       "      <td>0.568868</td>\n",
       "      <td>0.579803</td>\n",
       "      <td>0.775593</td>\n",
       "      <td>1.000000</td>\n",
       "      <td>0.603365</td>\n",
       "      <td>0.603365</td>\n",
       "      <td>0.815133</td>\n",
       "      <td>0.738309</td>\n",
       "      <td>-0.154835</td>\n",
       "    </tr>\n",
       "    <tr>\n",
       "      <th>public_transport_station_km</th>\n",
       "      <td>0.026128</td>\n",
       "      <td>-0.101283</td>\n",
       "      <td>-0.246053</td>\n",
       "      <td>-0.245446</td>\n",
       "      <td>-0.059873</td>\n",
       "      <td>-0.051951</td>\n",
       "      <td>0.729024</td>\n",
       "      <td>0.627391</td>\n",
       "      <td>0.544186</td>\n",
       "      <td>0.603365</td>\n",
       "      <td>1.000000</td>\n",
       "      <td>1.000000</td>\n",
       "      <td>0.541466</td>\n",
       "      <td>0.477367</td>\n",
       "      <td>-0.120200</td>\n",
       "    </tr>\n",
       "    <tr>\n",
       "      <th>public_transport_station_min_walk</th>\n",
       "      <td>0.026128</td>\n",
       "      <td>-0.101283</td>\n",
       "      <td>-0.246053</td>\n",
       "      <td>-0.245446</td>\n",
       "      <td>-0.059873</td>\n",
       "      <td>-0.051951</td>\n",
       "      <td>0.729024</td>\n",
       "      <td>0.627391</td>\n",
       "      <td>0.544186</td>\n",
       "      <td>0.603365</td>\n",
       "      <td>1.000000</td>\n",
       "      <td>1.000000</td>\n",
       "      <td>0.541466</td>\n",
       "      <td>0.477367</td>\n",
       "      <td>-0.120200</td>\n",
       "    </tr>\n",
       "    <tr>\n",
       "      <th>mkad_km</th>\n",
       "      <td>0.045574</td>\n",
       "      <td>-0.077007</td>\n",
       "      <td>-0.345382</td>\n",
       "      <td>-0.332682</td>\n",
       "      <td>0.059378</td>\n",
       "      <td>0.222038</td>\n",
       "      <td>0.472924</td>\n",
       "      <td>0.371755</td>\n",
       "      <td>0.499009</td>\n",
       "      <td>0.815133</td>\n",
       "      <td>0.541466</td>\n",
       "      <td>0.541466</td>\n",
       "      <td>1.000000</td>\n",
       "      <td>0.367409</td>\n",
       "      <td>-0.019540</td>\n",
       "    </tr>\n",
       "    <tr>\n",
       "      <th>kremlin_km</th>\n",
       "      <td>0.027346</td>\n",
       "      <td>0.045939</td>\n",
       "      <td>-0.306899</td>\n",
       "      <td>-0.334289</td>\n",
       "      <td>-0.230502</td>\n",
       "      <td>-0.396396</td>\n",
       "      <td>0.569672</td>\n",
       "      <td>0.757989</td>\n",
       "      <td>0.801887</td>\n",
       "      <td>0.738309</td>\n",
       "      <td>0.477367</td>\n",
       "      <td>0.477367</td>\n",
       "      <td>0.367409</td>\n",
       "      <td>1.000000</td>\n",
       "      <td>-0.278653</td>\n",
       "    </tr>\n",
       "    <tr>\n",
       "      <th>price_doc</th>\n",
       "      <td>0.342376</td>\n",
       "      <td>0.117447</td>\n",
       "      <td>0.133953</td>\n",
       "      <td>0.138888</td>\n",
       "      <td>0.102312</td>\n",
       "      <td>0.164807</td>\n",
       "      <td>-0.148375</td>\n",
       "      <td>-0.217810</td>\n",
       "      <td>-0.257878</td>\n",
       "      <td>-0.154835</td>\n",
       "      <td>-0.120200</td>\n",
       "      <td>-0.120200</td>\n",
       "      <td>-0.019540</td>\n",
       "      <td>-0.278653</td>\n",
       "      <td>1.000000</td>\n",
       "    </tr>\n",
       "  </tbody>\n",
       "</table>\n",
       "</div>"
      ],
      "text/plain": [
       "                                        full_sq     floor  children_preschool  \\\n",
       "full_sq                                1.000000  0.089649           -0.023715   \n",
       "floor                                  0.089649  1.000000           -0.012001   \n",
       "children_preschool                    -0.023715 -0.012001            1.000000   \n",
       "children_school                       -0.022383 -0.016466            0.987107   \n",
       "school_education_centers_top_20_raion  0.021193 -0.009889            0.102884   \n",
       "university_top_20_raion                0.045597  0.001380           -0.003898   \n",
       "additional_education_km                0.032927 -0.054134           -0.357490   \n",
       "university_km                          0.048182  0.024156           -0.323032   \n",
       "nuclear_reactor_km                     0.024337 -0.006406           -0.446021   \n",
       "power_transmission_line_km             0.039780 -0.026353           -0.336554   \n",
       "public_transport_station_km            0.026128 -0.101283           -0.246053   \n",
       "public_transport_station_min_walk      0.026128 -0.101283           -0.246053   \n",
       "mkad_km                                0.045574 -0.077007           -0.345382   \n",
       "kremlin_km                             0.027346  0.045939           -0.306899   \n",
       "price_doc                              0.342376  0.117447            0.133953   \n",
       "\n",
       "                                       children_school  \\\n",
       "full_sq                                      -0.022383   \n",
       "floor                                        -0.016466   \n",
       "children_preschool                            0.987107   \n",
       "children_school                               1.000000   \n",
       "school_education_centers_top_20_raion         0.140563   \n",
       "university_top_20_raion                       0.043620   \n",
       "additional_education_km                      -0.362353   \n",
       "university_km                                -0.329804   \n",
       "nuclear_reactor_km                           -0.468722   \n",
       "power_transmission_line_km                   -0.337588   \n",
       "public_transport_station_km                  -0.245446   \n",
       "public_transport_station_min_walk            -0.245446   \n",
       "mkad_km                                      -0.332682   \n",
       "kremlin_km                                   -0.334289   \n",
       "price_doc                                     0.138888   \n",
       "\n",
       "                                       school_education_centers_top_20_raion  \\\n",
       "full_sq                                                             0.021193   \n",
       "floor                                                              -0.009889   \n",
       "children_preschool                                                  0.102884   \n",
       "children_school                                                     0.140563   \n",
       "school_education_centers_top_20_raion                               1.000000   \n",
       "university_top_20_raion                                             0.319432   \n",
       "additional_education_km                                            -0.147228   \n",
       "university_km                                                      -0.122966   \n",
       "nuclear_reactor_km                                                 -0.133290   \n",
       "power_transmission_line_km                                         -0.062590   \n",
       "public_transport_station_km                                        -0.059873   \n",
       "public_transport_station_min_walk                                  -0.059873   \n",
       "mkad_km                                                             0.059378   \n",
       "kremlin_km                                                         -0.230502   \n",
       "price_doc                                                           0.102312   \n",
       "\n",
       "                                       university_top_20_raion  \\\n",
       "full_sq                                               0.045597   \n",
       "floor                                                 0.001380   \n",
       "children_preschool                                   -0.003898   \n",
       "children_school                                       0.043620   \n",
       "school_education_centers_top_20_raion                 0.319432   \n",
       "university_top_20_raion                               1.000000   \n",
       "additional_education_km                              -0.139777   \n",
       "university_km                                        -0.228673   \n",
       "nuclear_reactor_km                                   -0.181604   \n",
       "power_transmission_line_km                           -0.023063   \n",
       "public_transport_station_km                          -0.051951   \n",
       "public_transport_station_min_walk                    -0.051951   \n",
       "mkad_km                                               0.222038   \n",
       "kremlin_km                                           -0.396396   \n",
       "price_doc                                             0.164807   \n",
       "\n",
       "                                       additional_education_km  university_km  \\\n",
       "full_sq                                               0.032927       0.048182   \n",
       "floor                                                -0.054134       0.024156   \n",
       "children_preschool                                   -0.357490      -0.323032   \n",
       "children_school                                      -0.362353      -0.329804   \n",
       "school_education_centers_top_20_raion                -0.147228      -0.122966   \n",
       "university_top_20_raion                              -0.139777      -0.228673   \n",
       "additional_education_km                               1.000000       0.608360   \n",
       "university_km                                         0.608360       1.000000   \n",
       "nuclear_reactor_km                                    0.603981       0.722317   \n",
       "power_transmission_line_km                            0.568868       0.579803   \n",
       "public_transport_station_km                           0.729024       0.627391   \n",
       "public_transport_station_min_walk                     0.729024       0.627391   \n",
       "mkad_km                                               0.472924       0.371755   \n",
       "kremlin_km                                            0.569672       0.757989   \n",
       "price_doc                                            -0.148375      -0.217810   \n",
       "\n",
       "                                       nuclear_reactor_km  \\\n",
       "full_sq                                          0.024337   \n",
       "floor                                           -0.006406   \n",
       "children_preschool                              -0.446021   \n",
       "children_school                                 -0.468722   \n",
       "school_education_centers_top_20_raion           -0.133290   \n",
       "university_top_20_raion                         -0.181604   \n",
       "additional_education_km                          0.603981   \n",
       "university_km                                    0.722317   \n",
       "nuclear_reactor_km                               1.000000   \n",
       "power_transmission_line_km                       0.775593   \n",
       "public_transport_station_km                      0.544186   \n",
       "public_transport_station_min_walk                0.544186   \n",
       "mkad_km                                          0.499009   \n",
       "kremlin_km                                       0.801887   \n",
       "price_doc                                       -0.257878   \n",
       "\n",
       "                                       power_transmission_line_km  \\\n",
       "full_sq                                                  0.039780   \n",
       "floor                                                   -0.026353   \n",
       "children_preschool                                      -0.336554   \n",
       "children_school                                         -0.337588   \n",
       "school_education_centers_top_20_raion                   -0.062590   \n",
       "university_top_20_raion                                 -0.023063   \n",
       "additional_education_km                                  0.568868   \n",
       "university_km                                            0.579803   \n",
       "nuclear_reactor_km                                       0.775593   \n",
       "power_transmission_line_km                               1.000000   \n",
       "public_transport_station_km                              0.603365   \n",
       "public_transport_station_min_walk                        0.603365   \n",
       "mkad_km                                                  0.815133   \n",
       "kremlin_km                                               0.738309   \n",
       "price_doc                                               -0.154835   \n",
       "\n",
       "                                       public_transport_station_km  \\\n",
       "full_sq                                                   0.026128   \n",
       "floor                                                    -0.101283   \n",
       "children_preschool                                       -0.246053   \n",
       "children_school                                          -0.245446   \n",
       "school_education_centers_top_20_raion                    -0.059873   \n",
       "university_top_20_raion                                  -0.051951   \n",
       "additional_education_km                                   0.729024   \n",
       "university_km                                             0.627391   \n",
       "nuclear_reactor_km                                        0.544186   \n",
       "power_transmission_line_km                                0.603365   \n",
       "public_transport_station_km                               1.000000   \n",
       "public_transport_station_min_walk                         1.000000   \n",
       "mkad_km                                                   0.541466   \n",
       "kremlin_km                                                0.477367   \n",
       "price_doc                                                -0.120200   \n",
       "\n",
       "                                       public_transport_station_min_walk  \\\n",
       "full_sq                                                         0.026128   \n",
       "floor                                                          -0.101283   \n",
       "children_preschool                                             -0.246053   \n",
       "children_school                                                -0.245446   \n",
       "school_education_centers_top_20_raion                          -0.059873   \n",
       "university_top_20_raion                                        -0.051951   \n",
       "additional_education_km                                         0.729024   \n",
       "university_km                                                   0.627391   \n",
       "nuclear_reactor_km                                              0.544186   \n",
       "power_transmission_line_km                                      0.603365   \n",
       "public_transport_station_km                                     1.000000   \n",
       "public_transport_station_min_walk                               1.000000   \n",
       "mkad_km                                                         0.541466   \n",
       "kremlin_km                                                      0.477367   \n",
       "price_doc                                                      -0.120200   \n",
       "\n",
       "                                        mkad_km  kremlin_km  price_doc  \n",
       "full_sq                                0.045574    0.027346   0.342376  \n",
       "floor                                 -0.077007    0.045939   0.117447  \n",
       "children_preschool                    -0.345382   -0.306899   0.133953  \n",
       "children_school                       -0.332682   -0.334289   0.138888  \n",
       "school_education_centers_top_20_raion  0.059378   -0.230502   0.102312  \n",
       "university_top_20_raion                0.222038   -0.396396   0.164807  \n",
       "additional_education_km                0.472924    0.569672  -0.148375  \n",
       "university_km                          0.371755    0.757989  -0.217810  \n",
       "nuclear_reactor_km                     0.499009    0.801887  -0.257878  \n",
       "power_transmission_line_km             0.815133    0.738309  -0.154835  \n",
       "public_transport_station_km            0.541466    0.477367  -0.120200  \n",
       "public_transport_station_min_walk      0.541466    0.477367  -0.120200  \n",
       "mkad_km                                1.000000    0.367409  -0.019540  \n",
       "kremlin_km                             0.367409    1.000000  -0.278653  \n",
       "price_doc                             -0.019540   -0.278653   1.000000  "
      ]
     },
     "execution_count": 32,
     "metadata": {},
     "output_type": "execute_result"
    }
   ],
   "source": [
    "# рассчитаем корреляции для признаков из списка ``numeric_feature_columns``\n",
    "dff[numeric_feature_columns].corr()"
   ]
  },
  {
   "cell_type": "code",
   "execution_count": 33,
   "metadata": {},
   "outputs": [],
   "source": [
    "import seaborn as sns"
   ]
  },
  {
   "cell_type": "code",
   "execution_count": 34,
   "metadata": {},
   "outputs": [
    {
     "data": {
      "text/plain": [
       "<AxesSubplot:>"
      ]
     },
     "execution_count": 34,
     "metadata": {},
     "output_type": "execute_result"
    },
    {
     "data": {
      "image/png": "[encoded data removed]",
      "text/plain": [
       "<Figure size 432x288 with 2 Axes>"
      ]
     },
     "metadata": {
      "needs_background": "light"
     },
     "output_type": "display_data"
    }
   ],
   "source": [
    "# для большей наглядности построим тепловую карту\n",
    "sns.heatmap(dff[numeric_feature_columns].corr(), annot=True, cmap='coolwarm')"
   ]
  },
  {
   "cell_type": "markdown",
   "metadata": {},
   "source": [
    "Если корреляция между признаками по модулю высокая, они будут \"мешаться\" друг другу при обучении линейной модели, потому что вносят похожую информацию. Из набора нескольких коррелирующих признаков следует оставлять один. Оставьте среди числовых признаков только те, которые слабо коррелируют между собой:"
   ]
  },
  {
   "cell_type": "markdown",
   "metadata": {},
   "source": [
    "*Если мы возьмем в качестве порогового значения корреляции 0.9 и выше (т.к. от 0.9 до 1 -- сильная корреляция), то следует исключить во избежание мультиколлинеарности ``children_preschool`` или ``children_school`` (сorr = 0.987); ``public_transport_station_km`` или ``public_transport_station_min_walk`` (сorr = 1.0).*\n"
   ]
  },
  {
   "cell_type": "code",
   "execution_count": 35,
   "metadata": {},
   "outputs": [],
   "source": [
    "# удалим признаки ``children_preschool``, ``public_transport_station_min_walk``\n",
    "dff = dff.drop(['children_preschool', 'public_transport_station_min_walk'], axis=1)"
   ]
  },
  {
   "cell_type": "markdown",
   "metadata": {},
   "source": [
    "Что сейчас мешает просто взять и запустить LinearRegression? Дело в том, что три колонки содержат не понятные компьютеру числа, а текстовые значения, а именно:"
   ]
  },
  {
   "cell_type": "code",
   "execution_count": 36,
   "metadata": {
    "scrolled": true
   },
   "outputs": [
    {
     "data": {
      "text/html": [
       "<div>\n",
       "<style scoped>\n",
       "    .dataframe tbody tr th:only-of-type {\n",
       "        vertical-align: middle;\n",
       "    }\n",
       "\n",
       "    .dataframe tbody tr th {\n",
       "        vertical-align: top;\n",
       "    }\n",
       "\n",
       "    .dataframe thead th {\n",
       "        text-align: right;\n",
       "    }\n",
       "</style>\n",
       "<table border=\"1\" class=\"dataframe\">\n",
       "  <thead>\n",
       "    <tr style=\"text-align: right;\">\n",
       "      <th></th>\n",
       "      <th>sub_area</th>\n",
       "      <th>ecology</th>\n",
       "    </tr>\n",
       "  </thead>\n",
       "  <tbody>\n",
       "    <tr>\n",
       "      <th>0</th>\n",
       "      <td>Bibirevo</td>\n",
       "      <td>good</td>\n",
       "    </tr>\n",
       "    <tr>\n",
       "      <th>1</th>\n",
       "      <td>Nagatinskij Zaton</td>\n",
       "      <td>excellent</td>\n",
       "    </tr>\n",
       "    <tr>\n",
       "      <th>2</th>\n",
       "      <td>Tekstil'shhiki</td>\n",
       "      <td>poor</td>\n",
       "    </tr>\n",
       "    <tr>\n",
       "      <th>3</th>\n",
       "      <td>Mitino</td>\n",
       "      <td>good</td>\n",
       "    </tr>\n",
       "    <tr>\n",
       "      <th>4</th>\n",
       "      <td>Basmannoe</td>\n",
       "      <td>excellent</td>\n",
       "    </tr>\n",
       "    <tr>\n",
       "      <th>...</th>\n",
       "      <td>...</td>\n",
       "      <td>...</td>\n",
       "    </tr>\n",
       "    <tr>\n",
       "      <th>30466</th>\n",
       "      <td>Otradnoe</td>\n",
       "      <td>good</td>\n",
       "    </tr>\n",
       "    <tr>\n",
       "      <th>30467</th>\n",
       "      <td>Tverskoe</td>\n",
       "      <td>poor</td>\n",
       "    </tr>\n",
       "    <tr>\n",
       "      <th>30468</th>\n",
       "      <td>Poselenie Vnukovskoe</td>\n",
       "      <td>no data</td>\n",
       "    </tr>\n",
       "    <tr>\n",
       "      <th>30469</th>\n",
       "      <td>Obruchevskoe</td>\n",
       "      <td>satisfactory</td>\n",
       "    </tr>\n",
       "    <tr>\n",
       "      <th>30470</th>\n",
       "      <td>Novogireevo</td>\n",
       "      <td>poor</td>\n",
       "    </tr>\n",
       "  </tbody>\n",
       "</table>\n",
       "<p>30304 rows × 2 columns</p>\n",
       "</div>"
      ],
      "text/plain": [
       "                   sub_area       ecology\n",
       "0                  Bibirevo          good\n",
       "1         Nagatinskij Zaton     excellent\n",
       "2            Tekstil'shhiki          poor\n",
       "3                    Mitino          good\n",
       "4                 Basmannoe     excellent\n",
       "...                     ...           ...\n",
       "30466              Otradnoe          good\n",
       "30467              Tverskoe          poor\n",
       "30468  Poselenie Vnukovskoe       no data\n",
       "30469          Obruchevskoe  satisfactory\n",
       "30470           Novogireevo          poor\n",
       "\n",
       "[30304 rows x 2 columns]"
      ]
     },
     "execution_count": 36,
     "metadata": {},
     "output_type": "execute_result"
    }
   ],
   "source": [
    "dff[nominal_feature_columns]"
   ]
  },
  {
   "cell_type": "markdown",
   "metadata": {},
   "source": [
    "Есть два варианта действий:\n",
    "- просто заменить каждое значение на число (4 - 'excellent', 3 - 'good' etc.)\n",
    "- рассмотреть каждое значение как отдельный признак и создать в таблице новые колонки с названиями этих значений (dummy - переменные)\n",
    "\n",
    "$1$й способ хорошо подойдёт для колонки `ecology`, а $2$й -- для районов.\n"
   ]
  },
  {
   "cell_type": "code",
   "execution_count": 37,
   "metadata": {},
   "outputs": [
    {
     "data": {
      "text/plain": [
       "array(['good', 'excellent', 'poor', 'satisfactory', 'no data'],\n",
       "      dtype=object)"
      ]
     },
     "execution_count": 37,
     "metadata": {},
     "output_type": "execute_result"
    }
   ],
   "source": [
    "# посмотрим на все значения признака `ecology`\n",
    "dff['ecology'].unique()"
   ]
  },
  {
   "cell_type": "code",
   "execution_count": 38,
   "metadata": {},
   "outputs": [],
   "source": [
    "# удалим наблюдения cо значениями 'no data', т.к. это тоже пропуски\n",
    "dff = dff[dff['ecology'] != 'no data']"
   ]
  },
  {
   "cell_type": "code",
   "execution_count": 39,
   "metadata": {},
   "outputs": [],
   "source": [
    "# создадим словарь со значением для каждой категории\n",
    "scale = {'poor': 1, 'satisfactory': 2, 'good': 3, 'excellent': 4}"
   ]
  },
  {
   "cell_type": "code",
   "execution_count": 40,
   "metadata": {},
   "outputs": [
    {
     "data": {
      "text/html": [
       "<div>\n",
       "<style scoped>\n",
       "    .dataframe tbody tr th:only-of-type {\n",
       "        vertical-align: middle;\n",
       "    }\n",
       "\n",
       "    .dataframe tbody tr th {\n",
       "        vertical-align: top;\n",
       "    }\n",
       "\n",
       "    .dataframe thead th {\n",
       "        text-align: right;\n",
       "    }\n",
       "</style>\n",
       "<table border=\"1\" class=\"dataframe\">\n",
       "  <thead>\n",
       "    <tr style=\"text-align: right;\">\n",
       "      <th></th>\n",
       "      <th>sub_area</th>\n",
       "      <th>ecology</th>\n",
       "    </tr>\n",
       "  </thead>\n",
       "  <tbody>\n",
       "    <tr>\n",
       "      <th>0</th>\n",
       "      <td>Bibirevo</td>\n",
       "      <td>3</td>\n",
       "    </tr>\n",
       "    <tr>\n",
       "      <th>1</th>\n",
       "      <td>Nagatinskij Zaton</td>\n",
       "      <td>4</td>\n",
       "    </tr>\n",
       "    <tr>\n",
       "      <th>2</th>\n",
       "      <td>Tekstil'shhiki</td>\n",
       "      <td>1</td>\n",
       "    </tr>\n",
       "    <tr>\n",
       "      <th>3</th>\n",
       "      <td>Mitino</td>\n",
       "      <td>3</td>\n",
       "    </tr>\n",
       "    <tr>\n",
       "      <th>4</th>\n",
       "      <td>Basmannoe</td>\n",
       "      <td>4</td>\n",
       "    </tr>\n",
       "    <tr>\n",
       "      <th>...</th>\n",
       "      <td>...</td>\n",
       "      <td>...</td>\n",
       "    </tr>\n",
       "    <tr>\n",
       "      <th>30465</th>\n",
       "      <td>Tverskoe</td>\n",
       "      <td>4</td>\n",
       "    </tr>\n",
       "    <tr>\n",
       "      <th>30466</th>\n",
       "      <td>Otradnoe</td>\n",
       "      <td>3</td>\n",
       "    </tr>\n",
       "    <tr>\n",
       "      <th>30467</th>\n",
       "      <td>Tverskoe</td>\n",
       "      <td>1</td>\n",
       "    </tr>\n",
       "    <tr>\n",
       "      <th>30469</th>\n",
       "      <td>Obruchevskoe</td>\n",
       "      <td>2</td>\n",
       "    </tr>\n",
       "    <tr>\n",
       "      <th>30470</th>\n",
       "      <td>Novogireevo</td>\n",
       "      <td>1</td>\n",
       "    </tr>\n",
       "  </tbody>\n",
       "</table>\n",
       "<p>22726 rows × 2 columns</p>\n",
       "</div>"
      ],
      "text/plain": [
       "                sub_area  ecology\n",
       "0               Bibirevo        3\n",
       "1      Nagatinskij Zaton        4\n",
       "2         Tekstil'shhiki        1\n",
       "3                 Mitino        3\n",
       "4              Basmannoe        4\n",
       "...                  ...      ...\n",
       "30465           Tverskoe        4\n",
       "30466           Otradnoe        3\n",
       "30467           Tverskoe        1\n",
       "30469       Obruchevskoe        2\n",
       "30470        Novogireevo        1\n",
       "\n",
       "[22726 rows x 2 columns]"
      ]
     },
     "execution_count": 40,
     "metadata": {},
     "output_type": "execute_result"
    }
   ],
   "source": [
    "# заменим через метод .replace()\n",
    "dff['ecology'] = dff['ecology'].replace(scale)\n",
    "\n",
    "# убедимся, что все признаки перекодированы\n",
    "dff[nominal_feature_columns]"
   ]
  },
  {
   "cell_type": "code",
   "execution_count": 41,
   "metadata": {},
   "outputs": [],
   "source": [
    "dff = pd.get_dummies(dff)"
   ]
  },
  {
   "cell_type": "markdown",
   "metadata": {},
   "source": [
    "Решим задачу регрессии на полученных данных."
   ]
  },
  {
   "cell_type": "markdown",
   "metadata": {},
   "source": [
    "*Пусть целевой переменной будет цена квартиры - ``price_doc``. Построим линейную регрессию с целью оценить вклад каждого признака в объяснение изменчивости целевого признака.*"
   ]
  },
  {
   "cell_type": "code",
   "execution_count": 42,
   "metadata": {},
   "outputs": [],
   "source": [
    "from sklearn.model_selection import train_test_split\n",
    "from sklearn.linear_model import LinearRegression"
   ]
  },
  {
   "cell_type": "code",
   "execution_count": 43,
   "metadata": {},
   "outputs": [],
   "source": [
    "# зададим целевую переменную и нецелевые признаки\n",
    "X = dff.drop('price_doc', axis=1)\n",
    "y = dff['price_doc']"
   ]
  },
  {
   "cell_type": "code",
   "execution_count": 44,
   "metadata": {},
   "outputs": [],
   "source": [
    "# разделим выборку на обучение и тест\n",
    "X_train, X_test, y_train, y_test = train_test_split(X, y, test_size = 0.2, random_state = 42)\n",
    "\n",
    "model = LinearRegression()\n",
    "\n",
    "# обучили на тренировочной выборке\n",
    "model.fit(X_train, y_train)\n",
    "\n",
    "# cделали прогнозы на тестовой\n",
    "y_pred = model.predict(X_test)"
   ]
  },
  {
   "cell_type": "code",
   "execution_count": 45,
   "metadata": {},
   "outputs": [
    {
     "data": {
      "text/plain": [
       "0.26345630078351656"
      ]
     },
     "execution_count": 45,
     "metadata": {},
     "output_type": "execute_result"
    }
   ],
   "source": [
    "# посчитаем R^2: cколько объясняет \n",
    "from sklearn.metrics import r2_score\n",
    "\n",
    "r2_score(y_test, y_pred)"
   ]
  },
  {
   "cell_type": "code",
   "execution_count": 46,
   "metadata": {},
   "outputs": [],
   "source": [
    "from sklearn.metrics import mean_squared_error\n",
    "\n",
    "def rmse(y_test, y_pred):\n",
    "    return np.sqrt(mean_squared_error(y_test, y_pred))"
   ]
  },
  {
   "cell_type": "code",
   "execution_count": 47,
   "metadata": {},
   "outputs": [
    {
     "data": {
      "text/plain": [
       "4479322.902993431"
      ]
     },
     "execution_count": 47,
     "metadata": {},
     "output_type": "execute_result"
    }
   ],
   "source": [
    "# посчитаем среднеквадратическую ошибку\n",
    "rmse(y_test, y_pred)"
   ]
  },
  {
   "cell_type": "markdown",
   "metadata": {},
   "source": [
    "*R^2 = 0.263. Предложенная нами модель объясняет 26% разброса в исходных данных. Стоит заметить, что объяснительная сила модели -- маленькая. Более того, она ошибается в среднем на 4 млн при оценке стоимости квартир (на 4.479.322 рубля)*"
   ]
  },
  {
   "cell_type": "code",
   "execution_count": 48,
   "metadata": {},
   "outputs": [],
   "source": [
    "# применим нормализацию к признакам\n",
    "from sklearn.preprocessing import MinMaxScaler  \n",
    "scaler = MinMaxScaler()\n",
    "scaler.fit(X_train) \n",
    "X_train_sc = scaler.transform(X_train) \n",
    "X_test_sc = scaler.transform(X_test)"
   ]
  },
  {
   "cell_type": "code",
   "execution_count": 49,
   "metadata": {},
   "outputs": [],
   "source": [
    "model.fit(X_train_sc, y_train)\n",
    "\n",
    "y_pred = model.predict(X_test_sc)"
   ]
  },
  {
   "cell_type": "code",
   "execution_count": 50,
   "metadata": {},
   "outputs": [
    {
     "data": {
      "text/plain": [
       "0.2634786226670607"
      ]
     },
     "execution_count": 50,
     "metadata": {},
     "output_type": "execute_result"
    }
   ],
   "source": [
    "# посчитаем R^2 (2)\n",
    "r2_score(y_test, y_pred)"
   ]
  },
  {
   "cell_type": "code",
   "execution_count": 51,
   "metadata": {},
   "outputs": [
    {
     "data": {
      "text/plain": [
       "4479255.0267208675"
      ]
     },
     "execution_count": 51,
     "metadata": {},
     "output_type": "execute_result"
    }
   ],
   "source": [
    "# посчитаем среднеквадратическую ошибку (2)\n",
    "rmse(y_test, y_pred)"
   ]
  },
  {
   "cell_type": "code",
   "execution_count": 52,
   "metadata": {},
   "outputs": [
    {
     "name": "stdout",
     "output_type": "stream",
     "text": [
      "2.232188354411857e-05\n",
      "-67.87627256382257\n"
     ]
    }
   ],
   "source": [
    "# Как изменился R^2\n",
    "print(0.2634786226670607 - 0.26345630078351656)\n",
    "\n",
    "# Как изменился RMSE\n",
    "print(4479255.0267208675 - 4479322.902993431)"
   ]
  },
  {
   "cell_type": "markdown",
   "metadata": {},
   "source": [
    "*Качество модели стало чуть лучше: выше объяснительная сила; меньше среднекватрическая ошибка. Но прирост в качестве крайне незначительный.*"
   ]
  },
  {
   "cell_type": "markdown",
   "metadata": {},
   "source": [
    "*Попробуем оценить **гребневую регрессию** (или ридж-регрессию), так как у нас много признаков (а это один из методов понижения размерности).*"
   ]
  },
  {
   "cell_type": "code",
   "execution_count": 53,
   "metadata": {},
   "outputs": [],
   "source": [
    "from sklearn.linear_model import Ridge"
   ]
  },
  {
   "cell_type": "code",
   "execution_count": 54,
   "metadata": {},
   "outputs": [],
   "source": [
    "# параметр alpha пусть будет 1 \n",
    "ridge_model = Ridge(alpha=1.0)\n",
    "\n",
    "# обучили на тренировочной выборке\n",
    "ridge_model.fit(X_train, y_train)\n",
    "\n",
    "# сделали прогнозы на тестовой\n",
    "y_pred_ridge = ridge_model.predict(X_test)"
   ]
  },
  {
   "cell_type": "code",
   "execution_count": 55,
   "metadata": {},
   "outputs": [
    {
     "data": {
      "text/plain": [
       "0.2646892617496225"
      ]
     },
     "execution_count": 55,
     "metadata": {},
     "output_type": "execute_result"
    }
   ],
   "source": [
    "r2_score(y_test, y_pred_ridge)"
   ]
  },
  {
   "cell_type": "code",
   "execution_count": 56,
   "metadata": {},
   "outputs": [
    {
     "data": {
      "text/plain": [
       "4475572.179501968"
      ]
     },
     "execution_count": 56,
     "metadata": {},
     "output_type": "execute_result"
    }
   ],
   "source": [
    "rmse(y_test, y_pred_ridge)"
   ]
  },
  {
   "cell_type": "code",
   "execution_count": 57,
   "metadata": {},
   "outputs": [
    {
     "name": "stdout",
     "output_type": "stream",
     "text": [
      "0.001210639082561804\n",
      "-3682.8472188990563\n"
     ]
    }
   ],
   "source": [
    "# Как изменился R^2\n",
    "print(0.2646892617496225 - 0.2634786226670607)\n",
    "\n",
    "# Как изменился RMSE\n",
    "print(4475572.179501968 - 4479255.0267208675)"
   ]
  },
  {
   "cell_type": "markdown",
   "metadata": {},
   "source": [
    "*Итак, по сравнению с моделью линейной регрессии (прежде всего, после нормализации) ридж-регрессия дает качество лучше: объяснительная сила выше на 0.001, а среднеквадратическая ошибка меньше на 3.682.*"
   ]
  },
  {
   "cell_type": "markdown",
   "metadata": {},
   "source": [
    "*Время ансамблей!*\n"
   ]
  },
  {
   "cell_type": "code",
   "execution_count": 58,
   "metadata": {},
   "outputs": [],
   "source": [
    "from sklearn.ensemble import RandomForestRegressor\n",
    "from sklearn.tree import DecisionTreeRegressor"
   ]
  },
  {
   "cell_type": "markdown",
   "metadata": {},
   "source": [
    "*Бэггинг: решающее дерево*"
   ]
  },
  {
   "cell_type": "code",
   "execution_count": 59,
   "metadata": {},
   "outputs": [
    {
     "data": {
      "text/plain": [
       "DecisionTreeRegressor(max_depth=10, random_state=42)"
      ]
     },
     "execution_count": 59,
     "metadata": {},
     "output_type": "execute_result"
    }
   ],
   "source": [
    "# создаем модель дерева решений с максимальной глубиной 10 \n",
    "regr1 = DecisionTreeRegressor(max_depth = 10, random_state = 42)\n",
    "\n",
    "# обучаем модель\n",
    "regr1.fit(X_train, y_train)"
   ]
  },
  {
   "cell_type": "markdown",
   "metadata": {},
   "source": [
    "*Бэггинг: случайный лес*"
   ]
  },
  {
   "cell_type": "code",
   "execution_count": 60,
   "metadata": {},
   "outputs": [
    {
     "data": {
      "text/plain": [
       "RandomForestRegressor(max_depth=10, n_estimators=10, random_state=42)"
      ]
     },
     "execution_count": 60,
     "metadata": {},
     "output_type": "execute_result"
    }
   ],
   "source": [
    "# создаем модель случайного леса из 10 деревьев с максимальной глубиной 10 для каждого дерева \n",
    "regr2 = RandomForestRegressor(max_depth = 10, n_estimators = 10, random_state = 42)\n",
    "\n",
    "# обучаем модель\n",
    "regr2.fit(X_train, y_train)"
   ]
  },
  {
   "cell_type": "code",
   "execution_count": 61,
   "metadata": {},
   "outputs": [
    {
     "name": "stdout",
     "output_type": "stream",
     "text": [
      "Качество предсказания по RMSE для решающего дерева 3695610.2062876597\n",
      "Качество предсказания по RMSE для случайного леса  3469142.6881466145\n"
     ]
    }
   ],
   "source": [
    "import math\n",
    "\n",
    "# формируем предсказания каждой из моделей\n",
    "y_pred1 = regr1.predict(X_test)\n",
    "y_pred2 = regr2.predict(X_test)\n",
    " \n",
    "# оцениваем качество по метрике RMSE\n",
    "print(f'Качество предсказания по RMSE для решающего дерева {math.sqrt(round(mean_squared_error(y_test, y_pred1),2))}')\n",
    "print(f'Качество предсказания по RMSE для случайного леса  {math.sqrt(round(mean_squared_error(y_test, y_pred2),2))}')"
   ]
  },
  {
   "cell_type": "markdown",
   "metadata": {},
   "source": [
    "*Стоит заметить, что БЭГГИНГ позволяет добиться значительного повышения качества модели. Интерпретируем для случайного леса (т.к. качество случайного леса выше одиночного решающего дерева): модель ошибается теперь не на 4 млн, а на 3 млн 469 тысяч и 142 рубля.*"
   ]
  },
  {
   "cell_type": "markdown",
   "metadata": {},
   "source": [
    "*И последнее - СТЕКИНГ.*"
   ]
  },
  {
   "cell_type": "code",
   "execution_count": 62,
   "metadata": {},
   "outputs": [],
   "source": [
    "from sklearn.ensemble import StackingRegressor\n",
    "from sklearn.linear_model import RidgeCV"
   ]
  },
  {
   "cell_type": "code",
   "execution_count": 63,
   "metadata": {},
   "outputs": [
    {
     "data": {
      "text/plain": [
       "StackingRegressor(estimators=[('lr', RidgeCV(alphas=array([ 0.1,  1. , 10. ]))),\n",
       "                              ('dt', DecisionTreeRegressor(random_state=42))],\n",
       "                  final_estimator=RandomForestRegressor(n_estimators=10,\n",
       "                                                        random_state=42))"
      ]
     },
     "execution_count": 63,
     "metadata": {},
     "output_type": "execute_result"
    }
   ],
   "source": [
    "# создаем список кортежей вида: (наименование модели, модель)\n",
    "estimators = [\n",
    "    ('lr', RidgeCV()),\n",
    "    ('dt',  DecisionTreeRegressor(random_state=42))\n",
    "]\n",
    "\n",
    "# создаем объект класса стекинг\n",
    "reg = StackingRegressor(\n",
    "    estimators = estimators,\n",
    "    final_estimator = RandomForestRegressor(n_estimators=10,\n",
    "                                          random_state=42)\n",
    ")\n",
    "# обучаем модель\n",
    "reg.fit(X_train, y_train)"
   ]
  },
  {
   "cell_type": "code",
   "execution_count": 64,
   "metadata": {},
   "outputs": [
    {
     "name": "stdout",
     "output_type": "stream",
     "text": [
      "Качество предсказания по MSE для стекинга 4158088.3290409558\n"
     ]
    }
   ],
   "source": [
    "# формируем предсказание для тестовой выборки\n",
    "y_pred_stack = reg.predict(X_test)\n",
    "\n",
    "# оцениваем качество по метрике RMSE\n",
    "print(f'Качество предсказания по MSE для стекинга {math.sqrt(round(mean_squared_error(y_test, y_pred_stack), 2))}')"
   ]
  },
  {
   "cell_type": "markdown",
   "metadata": {},
   "source": [
    "*Можем подытожить. Бэггинг: случайный лес дает неплохое относительно других моделей качество, т.к. позволяет значительно уменьшить среднеквадратическую ошибку (RMSE) по сравнению с ридж-регрессией и стекингом (где соединили ридж-регрессию и решающее дерево). Кроме того, нормализация признаков позволяет чуть-чуть улучшить качество изначальной линейной модели.*"
   ]
  },
  {
   "cell_type": "code",
   "execution_count": null,
   "metadata": {},
   "outputs": [],
   "source": []
  }
 ],
 "metadata": {
  "kernelspec": {
   "display_name": "Python 3 (ipykernel)",
   "language": "python",
   "name": "python3"
  },
  "language_info": {
   "codemirror_mode": {
    "name": "ipython",
    "version": 3
   },
   "file_extension": ".py",
   "mimetype": "text/x-python",
   "name": "python",
   "nbconvert_exporter": "python",
   "pygments_lexer": "ipython3",
   "version": "3.9.7"
  },
  "toc": {
   "base_numbering": 1,
   "nav_menu": {},
   "number_sections": false,
   "sideBar": true,
   "skip_h1_title": false,
   "title_cell": "Table of Contents",
   "title_sidebar": "Contents",
   "toc_cell": false,
   "toc_position": {},
   "toc_section_display": true,
   "toc_window_display": false
  }
 },
 "nbformat": 4,
 "nbformat_minor": 2
}
